{
  "nbformat": 4,
  "nbformat_minor": 0,
  "metadata": {
    "colab": {
      "name": "process_of_mq_sensors_logs_with_tf_250_versionipynb",
      "provenance": [],
      "collapsed_sections": []
    },
    "kernelspec": {
      "name": "python3",
      "display_name": "Python 3"
    },
    "language_info": {
      "name": "python"
    }
  },
  "cells": [
    {
      "cell_type": "markdown",
      "source": [
        "#Processing of the MQ sensors' logs"
      ],
      "metadata": {
        "id": "tCuyquL9mnh3"
      }
    },
    {
      "cell_type": "markdown",
      "source": [
        "In this **project**, we'll build a neural network and use it to predict food degradation over time."
      ],
      "metadata": {
        "id": "XWWn0bJ2myKj"
      }
    },
    {
      "cell_type": "markdown",
      "source": [
        "### CAUTION = Because the tflite-runtime version of the Raspberry is 2.5.0 we have to install the specific one here.\n",
        "\n",
        "Check your version at Raspberry and use the same version below."
      ],
      "metadata": {
        "id": "P4T2MBcIwfX8"
      }
    },
    {
      "cell_type": "code",
      "source": [
        "!pip install tensorflow==2.5.0\n",
        "import tensorflow as tf\n",
        "print(tf.__version__)"
      ],
      "metadata": {
        "id": "eO-2wVw9w72O"
      },
      "execution_count": null,
      "outputs": []
    },
    {
      "cell_type": "code",
      "execution_count": 4,
      "metadata": {
        "id": "s8l7oHzDjejD"
      },
      "outputs": [],
      "source": [
        "#Importing modules\n",
        "%matplotlib inline\n",
        "%load_ext autoreload\n",
        "%autoreload 2\n",
        "%config InlineBackend.figure_format = 'retina'\n",
        "\n",
        "import numpy as np\n",
        "import pandas as pd\n",
        "import matplotlib.pyplot as plt\n",
        "import random"
      ]
    },
    {
      "cell_type": "markdown",
      "source": [
        "## Load and prepare the data\n",
        "\n",
        "A critical step in working with neural networks is preparing the data correctly."
      ],
      "metadata": {
        "id": "PbsEQumgn1IB"
      }
    },
    {
      "cell_type": "code",
      "source": [
        "data_path = 'mq_sensors_logs_feta.csv'\n",
        "\n",
        "df_feta = pd.read_csv(data_path)\n",
        "# Watch all columns\n",
        "pd.options.display.max_columns = None\n",
        "\n",
        "# Add value 0 for first day and 1 for rest.\n",
        "df_feta.loc[0:1440, 'day'] = 0\n",
        "df_feta.loc[1440:, 'day'] = 1\n",
        "\n",
        "#rides_feta.head(10)\n",
        "print(df_feta[1435:1445])"
      ],
      "metadata": {
        "colab": {
          "base_uri": "https://localhost:8080/"
        },
        "id": "ScZyMM3YnHdK",
        "outputId": "f9d26472-b073-4f49-9bc4-0ee17a4428bd"
      },
      "execution_count": 5,
      "outputs": [
        {
          "output_type": "stream",
          "name": "stdout",
          "text": [
            "      Timestamp  Raw_value_MQ2  Raw_value_MQ3  Raw_value_MQ4  Raw_value_MQ135  \\\n",
            "1435       1442         1728.0         3264.0         1088.0           1152.0   \n",
            "1436       1443         1728.0         3008.0         1088.0           1152.0   \n",
            "1437       1444         1728.0         2944.0         1088.0           1152.0   \n",
            "1438       1445         1728.0         2752.0         1088.0           1152.0   \n",
            "1439       1446         1728.0         3328.0         1088.0           1152.0   \n",
            "1440       1447         1728.0         2880.0         1088.0           1152.0   \n",
            "1441       1448         1728.0         3136.0         1088.0           1152.0   \n",
            "1442       1449         1728.0         2688.0         1088.0           1152.0   \n",
            "1443       1450         1728.0         2944.0         1088.0           1152.0   \n",
            "1444       1451         1728.0         2918.4         1088.0           1152.0   \n",
            "\n",
            "      Raw_value_MQ6  Raw_value_MQ7  Raw_value_MQ8  Raw_value_MQ9      day  \n",
            "1435         1216.0         1792.0         1702.4         1216.0 NaN  0.0  \n",
            "1436         1216.0         1792.0         1702.4         1216.0 NaN  0.0  \n",
            "1437         1216.0         1792.0         1676.8         1216.0 NaN  0.0  \n",
            "1438         1216.0         1792.0         1702.4         1216.0 NaN  0.0  \n",
            "1439         1216.0         1792.0         1728.0         1216.0 NaN  0.0  \n",
            "1440         1216.0         1792.0         1715.2         1216.0 NaN  1.0  \n",
            "1441         1216.0         1792.0         1702.4         1216.0 NaN  1.0  \n",
            "1442         1216.0         1792.0         1702.4         1216.0 NaN  1.0  \n",
            "1443         1216.0         1792.0         1702.4         1216.0 NaN  1.0  \n",
            "1444         1216.0         1792.0         1715.2         1216.0 NaN  1.0  \n"
          ]
        }
      ]
    },
    {
      "cell_type": "markdown",
      "source": [
        "##Checking out the data\n",
        "This dataset has logs from various different simple air sensors that are collected during food degradation over a period of time. Logs are collected in intervals of 1 minute so for one day we have 1440 entries. Check the basic set up for the [MQ-2 sensor](https://medium.com/p/5c7e2338267f) and the whole [bunch of air sensors](https://medium.com/p/b4523540f63d)."
      ],
      "metadata": {
        "id": "2JG4jZIOoxHs"
      }
    },
    {
      "cell_type": "code",
      "source": [
        "df_feta[:3500].plot(x='Timestamp', y='Raw_value_MQ2')"
      ],
      "metadata": {
        "colab": {
          "base_uri": "https://localhost:8080/",
          "height": 296
        },
        "id": "busCtSwIqjBe",
        "outputId": "1566eb1d-b0b4-4980-bcdf-64b57310c66d"
      },
      "execution_count": 6,
      "outputs": [
        {
          "output_type": "execute_result",
          "data": {
            "text/plain": [
              "<matplotlib.axes._subplots.AxesSubplot at 0x7f4db0bb9610>"
            ]
          },
          "metadata": {},
          "execution_count": 6
        },
        {
          "output_type": "display_data",
          "data": {
            "text/plain": [
              "<Figure size 432x288 with 1 Axes>"
            ],
            "image/png": "[encoded data removed]"
          },
          "metadata": {
            "image/png": {
              "width": 385,
              "height": 261
            },
            "needs_background": "light"
          }
        }
      ]
    },
    {
      "cell_type": "markdown",
      "source": [
        "##Normalizing the values\n",
        "We are dividing every log by 65472 wich is the maximum value each sensor can give. For more info read [this](https://github.com/adafruit/Adafruit_CircuitPython_MCP3xxx/blob/main/adafruit_mcp3xxx/analog_in.py#L50-L54)."
      ],
      "metadata": {
        "id": "mAmDP9h3yGDM"
      }
    },
    {
      "cell_type": "code",
      "source": [
        "sensor_names = ['Raw_value_MQ2', 'Raw_value_MQ3', 'Raw_value_MQ4', 'Raw_value_MQ135', 'Raw_value_MQ6', 'Raw_value_MQ7', 'Raw_value_MQ8', 'Raw_value_MQ9']\n",
        "sensor_names_with_day = ['Raw_value_MQ2', 'Raw_value_MQ3', 'Raw_value_MQ4', 'Raw_value_MQ135', 'Raw_value_MQ6', 'Raw_value_MQ7', 'Raw_value_MQ8', 'Raw_value_MQ9', 'day']\n",
        "\n",
        "MAX_VALUE = 65472\n",
        "for each in sensor_names:\n",
        "    df_feta.loc[:, each] = df_feta[each] / MAX_VALUE\n",
        "\n",
        "df_feta[:10]"
      ],
      "metadata": {
        "colab": {
          "base_uri": "https://localhost:8080/",
          "height": 363
        },
        "id": "LKti1J_jyktx",
        "outputId": "eed43abd-edc0-414c-99f5-e9a7fcb48e04"
      },
      "execution_count": 7,
      "outputs": [
        {
          "output_type": "execute_result",
          "data": {
            "text/plain": [
              "   Timestamp  Raw_value_MQ2  Raw_value_MQ3  Raw_value_MQ4  Raw_value_MQ135  \\\n",
              "0          0       0.024829       0.098729        0.01564         0.017595   \n",
              "1          1       0.024438       0.087977        0.01564         0.017595   \n",
              "2          2       0.024438       0.090714        0.01564         0.017400   \n",
              "3          3       0.024438       0.080352        0.01564         0.017595   \n",
              "4          4       0.024438       0.077419        0.01564         0.017595   \n",
              "5          5       0.024438       0.084066        0.01564         0.017400   \n",
              "6          6       0.024438       0.089932        0.01564         0.017400   \n",
              "7          7       0.024438       0.102639        0.01564         0.017400   \n",
              "8          8       0.024438       0.091691        0.01564         0.017400   \n",
              "9          9       0.024438       0.095015        0.01564         0.017595   \n",
              "\n",
              "   Raw_value_MQ6  Raw_value_MQ7  Raw_value_MQ8  Raw_value_MQ9      day  \n",
              "0       0.018573       0.028348       0.025415       0.019550 NaN  0.0  \n",
              "1       0.018573       0.028348       0.025415       0.019550 NaN  0.0  \n",
              "2       0.018573       0.028348       0.025611       0.019550 NaN  0.0  \n",
              "3       0.018573       0.028348       0.025806       0.018768 NaN  0.0  \n",
              "4       0.018573       0.028543       0.026197       0.019159 NaN  0.0  \n",
              "5       0.018573       0.028348       0.026393       0.018573 NaN  0.0  \n",
              "6       0.018573       0.028348       0.026002       0.018573 NaN  0.0  \n",
              "7       0.018573       0.028348       0.026393       0.019550 NaN  0.0  \n",
              "8       0.018573       0.028348       0.026197       0.018964 NaN  0.0  \n",
              "9       0.018573       0.028348       0.026393       0.019550 NaN  0.0  "
            ],
            "text/html": [
              "\n",
              "  <div id=\"df-70bd4e85-a27b-425a-9520-dd54e0940a7c\">\n",
              "    <div class=\"colab-df-container\">\n",
              "      <div>\n",
              "<style scoped>\n",
              "    .dataframe tbody tr th:only-of-type {\n",
              "        vertical-align: middle;\n",
              "    }\n",
              "\n",
              "    .dataframe tbody tr th {\n",
              "        vertical-align: top;\n",
              "    }\n",
              "\n",
              "    .dataframe thead th {\n",
              "        text-align: right;\n",
              "    }\n",
              "</style>\n",
              "<table border=\"1\" class=\"dataframe\">\n",
              "  <thead>\n",
              "    <tr style=\"text-align: right;\">\n",
              "      <th></th>\n",
              "      <th>Timestamp</th>\n",
              "      <th>Raw_value_MQ2</th>\n",
              "      <th>Raw_value_MQ3</th>\n",
              "      <th>Raw_value_MQ4</th>\n",
              "      <th>Raw_value_MQ135</th>\n",
              "      <th>Raw_value_MQ6</th>\n",
              "      <th>Raw_value_MQ7</th>\n",
              "      <th>Raw_value_MQ8</th>\n",
              "      <th>Raw_value_MQ9</th>\n",
              "      <th></th>\n",
              "      <th>day</th>\n",
              "    </tr>\n",
              "  </thead>\n",
              "  <tbody>\n",
              "    <tr>\n",
              "      <th>0</th>\n",
              "      <td>0</td>\n",
              "      <td>0.024829</td>\n",
              "      <td>0.098729</td>\n",
              "      <td>0.01564</td>\n",
              "      <td>0.017595</td>\n",
              "      <td>0.018573</td>\n",
              "      <td>0.028348</td>\n",
              "      <td>0.025415</td>\n",
              "      <td>0.019550</td>\n",
              "      <td>NaN</td>\n",
              "      <td>0.0</td>\n",
              "    </tr>\n",
              "    <tr>\n",
              "      <th>1</th>\n",
              "      <td>1</td>\n",
              "      <td>0.024438</td>\n",
              "      <td>0.087977</td>\n",
              "      <td>0.01564</td>\n",
              "      <td>0.017595</td>\n",
              "      <td>0.018573</td>\n",
              "      <td>0.028348</td>\n",
              "      <td>0.025415</td>\n",
              "      <td>0.019550</td>\n",
              "      <td>NaN</td>\n",
              "      <td>0.0</td>\n",
              "    </tr>\n",
              "    <tr>\n",
              "      <th>2</th>\n",
              "      <td>2</td>\n",
              "      <td>0.024438</td>\n",
              "      <td>0.090714</td>\n",
              "      <td>0.01564</td>\n",
              "      <td>0.017400</td>\n",
              "      <td>0.018573</td>\n",
              "      <td>0.028348</td>\n",
              "      <td>0.025611</td>\n",
              "      <td>0.019550</td>\n",
              "      <td>NaN</td>\n",
              "      <td>0.0</td>\n",
              "    </tr>\n",
              "    <tr>\n",
              "      <th>3</th>\n",
              "      <td>3</td>\n",
              "      <td>0.024438</td>\n",
              "      <td>0.080352</td>\n",
              "      <td>0.01564</td>\n",
              "      <td>0.017595</td>\n",
              "      <td>0.018573</td>\n",
              "      <td>0.028348</td>\n",
              "      <td>0.025806</td>\n",
              "      <td>0.018768</td>\n",
              "      <td>NaN</td>\n",
              "      <td>0.0</td>\n",
              "    </tr>\n",
              "    <tr>\n",
              "      <th>4</th>\n",
              "      <td>4</td>\n",
              "      <td>0.024438</td>\n",
              "      <td>0.077419</td>\n",
              "      <td>0.01564</td>\n",
              "      <td>0.017595</td>\n",
              "      <td>0.018573</td>\n",
              "      <td>0.028543</td>\n",
              "      <td>0.026197</td>\n",
              "      <td>0.019159</td>\n",
              "      <td>NaN</td>\n",
              "      <td>0.0</td>\n",
              "    </tr>\n",
              "    <tr>\n",
              "      <th>5</th>\n",
              "      <td>5</td>\n",
              "      <td>0.024438</td>\n",
              "      <td>0.084066</td>\n",
              "      <td>0.01564</td>\n",
              "      <td>0.017400</td>\n",
              "      <td>0.018573</td>\n",
              "      <td>0.028348</td>\n",
              "      <td>0.026393</td>\n",
              "      <td>0.018573</td>\n",
              "      <td>NaN</td>\n",
              "      <td>0.0</td>\n",
              "    </tr>\n",
              "    <tr>\n",
              "      <th>6</th>\n",
              "      <td>6</td>\n",
              "      <td>0.024438</td>\n",
              "      <td>0.089932</td>\n",
              "      <td>0.01564</td>\n",
              "      <td>0.017400</td>\n",
              "      <td>0.018573</td>\n",
              "      <td>0.028348</td>\n",
              "      <td>0.026002</td>\n",
              "      <td>0.018573</td>\n",
              "      <td>NaN</td>\n",
              "      <td>0.0</td>\n",
              "    </tr>\n",
              "    <tr>\n",
              "      <th>7</th>\n",
              "      <td>7</td>\n",
              "      <td>0.024438</td>\n",
              "      <td>0.102639</td>\n",
              "      <td>0.01564</td>\n",
              "      <td>0.017400</td>\n",
              "      <td>0.018573</td>\n",
              "      <td>0.028348</td>\n",
              "      <td>0.026393</td>\n",
              "      <td>0.019550</td>\n",
              "      <td>NaN</td>\n",
              "      <td>0.0</td>\n",
              "    </tr>\n",
              "    <tr>\n",
              "      <th>8</th>\n",
              "      <td>8</td>\n",
              "      <td>0.024438</td>\n",
              "      <td>0.091691</td>\n",
              "      <td>0.01564</td>\n",
              "      <td>0.017400</td>\n",
              "      <td>0.018573</td>\n",
              "      <td>0.028348</td>\n",
              "      <td>0.026197</td>\n",
              "      <td>0.018964</td>\n",
              "      <td>NaN</td>\n",
              "      <td>0.0</td>\n",
              "    </tr>\n",
              "    <tr>\n",
              "      <th>9</th>\n",
              "      <td>9</td>\n",
              "      <td>0.024438</td>\n",
              "      <td>0.095015</td>\n",
              "      <td>0.01564</td>\n",
              "      <td>0.017595</td>\n",
              "      <td>0.018573</td>\n",
              "      <td>0.028348</td>\n",
              "      <td>0.026393</td>\n",
              "      <td>0.019550</td>\n",
              "      <td>NaN</td>\n",
              "      <td>0.0</td>\n",
              "    </tr>\n",
              "  </tbody>\n",
              "</table>\n",
              "</div>\n",
              "      <button class=\"colab-df-convert\" onclick=\"convertToInteractive('df-70bd4e85-a27b-425a-9520-dd54e0940a7c')\"\n",
              "              title=\"Convert this dataframe to an interactive table.\"\n",
              "              style=\"display:none;\">\n",
              "        \n",
              "  <svg xmlns=\"http://www.w3.org/2000/svg\" height=\"24px\"viewBox=\"0 0 24 24\"\n",
              "       width=\"24px\">\n",
              "    <path d=\"M0 0h24v24H0V0z\" fill=\"none\"/>\n",
              "    <path d=\"M18.56 5.44l.94 2.06.94-2.06 2.06-.94-2.06-.94-.94-2.06-.94 2.06-2.06.94zm-11 1L8.5 8.5l.94-2.06 2.06-.94-2.06-.94L8.5 2.5l-.94 2.06-2.06.94zm10 10l.94 2.06.94-2.06 2.06-.94-2.06-.94-.94-2.06-.94 2.06-2.06.94z\"/><path d=\"M17.41 7.96l-1.37-1.37c-.4-.4-.92-.59-1.43-.59-.52 0-1.04.2-1.43.59L10.3 9.45l-7.72 7.72c-.78.78-.78 2.05 0 2.83L4 21.41c.39.39.9.59 1.41.59.51 0 1.02-.2 1.41-.59l7.78-7.78 2.81-2.81c.8-.78.8-2.07 0-2.86zM5.41 20L4 18.59l7.72-7.72 1.47 1.35L5.41 20z\"/>\n",
              "  </svg>\n",
              "      </button>\n",
              "      \n",
              "  <style>\n",
              "    .colab-df-container {\n",
              "      display:flex;\n",
              "      flex-wrap:wrap;\n",
              "      gap: 12px;\n",
              "    }\n",
              "\n",
              "    .colab-df-convert {\n",
              "      background-color: #E8F0FE;\n",
              "      border: none;\n",
              "      border-radius: 50%;\n",
              "      cursor: pointer;\n",
              "      display: none;\n",
              "      fill: #1967D2;\n",
              "      height: 32px;\n",
              "      padding: 0 0 0 0;\n",
              "      width: 32px;\n",
              "    }\n",
              "\n",
              "    .colab-df-convert:hover {\n",
              "      background-color: #E2EBFA;\n",
              "      box-shadow: 0px 1px 2px rgba(60, 64, 67, 0.3), 0px 1px 3px 1px rgba(60, 64, 67, 0.15);\n",
              "      fill: #174EA6;\n",
              "    }\n",
              "\n",
              "    [theme=dark] .colab-df-convert {\n",
              "      background-color: #3B4455;\n",
              "      fill: #D2E3FC;\n",
              "    }\n",
              "\n",
              "    [theme=dark] .colab-df-convert:hover {\n",
              "      background-color: #434B5C;\n",
              "      box-shadow: 0px 1px 3px 1px rgba(0, 0, 0, 0.15);\n",
              "      filter: drop-shadow(0px 1px 2px rgba(0, 0, 0, 0.3));\n",
              "      fill: #FFFFFF;\n",
              "    }\n",
              "  </style>\n",
              "\n",
              "      <script>\n",
              "        const buttonEl =\n",
              "          document.querySelector('#df-70bd4e85-a27b-425a-9520-dd54e0940a7c button.colab-df-convert');\n",
              "        buttonEl.style.display =\n",
              "          google.colab.kernel.accessAllowed ? 'block' : 'none';\n",
              "\n",
              "        async function convertToInteractive(key) {\n",
              "          const element = document.querySelector('#df-70bd4e85-a27b-425a-9520-dd54e0940a7c');\n",
              "          const dataTable =\n",
              "            await google.colab.kernel.invokeFunction('convertToInteractive',\n",
              "                                                     [key], {});\n",
              "          if (!dataTable) return;\n",
              "\n",
              "          const docLinkHtml = 'Like what you see? Visit the ' +\n",
              "            '<a target=\"_blank\" href=https://colab.research.google.com/notebooks/data_table.ipynb>data table notebook</a>'\n",
              "            + ' to learn more about interactive tables.';\n",
              "          element.innerHTML = '';\n",
              "          dataTable['output_type'] = 'display_data';\n",
              "          await google.colab.output.renderOutput(dataTable, element);\n",
              "          const docLink = document.createElement('div');\n",
              "          docLink.innerHTML = docLinkHtml;\n",
              "          element.appendChild(docLink);\n",
              "        }\n",
              "      </script>\n",
              "    </div>\n",
              "  </div>\n",
              "  "
            ]
          },
          "metadata": {},
          "execution_count": 7
        }
      ]
    },
    {
      "cell_type": "code",
      "source": [
        "#Plot the diagram with normalized data\n",
        "df_feta[:3500].plot(x='Timestamp', y='Raw_value_MQ2')\n",
        "df_feta[:3500].plot(x='Timestamp', y='Raw_value_MQ3')\n",
        "df_feta[:3500].plot(x='Timestamp', y='Raw_value_MQ4')\n",
        "df_feta[:3500].plot(x='Timestamp', y='Raw_value_MQ135')"
      ],
      "metadata": {
        "colab": {
          "base_uri": "https://localhost:8080/",
          "height": 1000
        },
        "id": "RpO6jSNzztxF",
        "outputId": "86105034-1c71-44dc-d8d6-938b19705228"
      },
      "execution_count": 8,
      "outputs": [
        {
          "output_type": "execute_result",
          "data": {
            "text/plain": [
              "<matplotlib.axes._subplots.AxesSubplot at 0x7f4db0586850>"
            ]
          },
          "metadata": {},
          "execution_count": 8
        },
        {
          "output_type": "display_data",
          "data": {
            "text/plain": [
              "<Figure size 432x288 with 1 Axes>"
            ],
            "image/png": "[encoded data removed]"
          },
          "metadata": {
            "image/png": {
              "width": 394,
              "height": 261
            },
            "needs_background": "light"
          }
        },
        {
          "output_type": "display_data",
          "data": {
            "text/plain": [
              "<Figure size 432x288 with 1 Axes>"
            ],
            "image/png": "[encoded data removed]"
          },
          "metadata": {
            "image/png": {
              "width": 381,
              "height": 261
            },
            "needs_background": "light"
          }
        },
        {
          "output_type": "display_data",
          "data": {
            "text/plain": [
              "<Figure size 432x288 with 1 Axes>"
            ],
            "image/png": "[encoded data removed]"
          },
          "metadata": {
            "image/png": {
              "width": 388,
              "height": 262
            },
            "needs_background": "light"
          }
        },
        {
          "output_type": "display_data",
          "data": {
            "text/plain": [
              "<Figure size 432x288 with 1 Axes>"
            ],
            "image/png": "[encoded data removed]"
          },
          "metadata": {
            "image/png": {
              "width": 388,
              "height": 261
            },
            "needs_background": "light"
          }
        }
      ]
    },
    {
      "cell_type": "code",
      "source": [
        "fields = df_feta[sensor_names_with_day]"
      ],
      "metadata": {
        "id": "w3rVyd422RYV"
      },
      "execution_count": 9,
      "outputs": []
    },
    {
      "cell_type": "code",
      "source": [
        "#Print a dataframe with normalized values and the day\n",
        "fields[1438:1450]"
      ],
      "metadata": {
        "colab": {
          "base_uri": "https://localhost:8080/",
          "height": 425
        },
        "id": "6Y8Vf4qK938f",
        "outputId": "03c0c072-8dff-4df0-d6a0-0c4080bb7536"
      },
      "execution_count": 10,
      "outputs": [
        {
          "output_type": "execute_result",
          "data": {
            "text/plain": [
              "      Raw_value_MQ2  Raw_value_MQ3  Raw_value_MQ4  Raw_value_MQ135  \\\n",
              "1438       0.026393       0.042033       0.016618         0.017595   \n",
              "1439       0.026393       0.050831       0.016618         0.017595   \n",
              "1440       0.026393       0.043988       0.016618         0.017595   \n",
              "1441       0.026393       0.047898       0.016618         0.017595   \n",
              "1442       0.026393       0.041056       0.016618         0.017595   \n",
              "1443       0.026393       0.044966       0.016618         0.017595   \n",
              "1444       0.026393       0.044575       0.016618         0.017595   \n",
              "1445       0.026393       0.045161       0.016618         0.017595   \n",
              "1446       0.026393       0.044966       0.016618         0.017595   \n",
              "1447       0.026393       0.038123       0.016618         0.017595   \n",
              "1448       0.026393       0.042033       0.016618         0.017595   \n",
              "1449       0.026393       0.044966       0.016618         0.017400   \n",
              "\n",
              "      Raw_value_MQ6  Raw_value_MQ7  Raw_value_MQ8  Raw_value_MQ9  day  \n",
              "1438       0.018573        0.02737       0.026002       0.018573  0.0  \n",
              "1439       0.018573        0.02737       0.026393       0.018573  0.0  \n",
              "1440       0.018573        0.02737       0.026197       0.018573  1.0  \n",
              "1441       0.018573        0.02737       0.026002       0.018573  1.0  \n",
              "1442       0.018573        0.02737       0.026002       0.018573  1.0  \n",
              "1443       0.018573        0.02737       0.026002       0.018573  1.0  \n",
              "1444       0.018573        0.02737       0.026197       0.018573  1.0  \n",
              "1445       0.018573        0.02737       0.026002       0.018573  1.0  \n",
              "1446       0.018573        0.02737       0.026002       0.018573  1.0  \n",
              "1447       0.018573        0.02737       0.026002       0.018573  1.0  \n",
              "1448       0.018573        0.02737       0.026393       0.018573  1.0  \n",
              "1449       0.018573        0.02737       0.025611       0.018573  1.0  "
            ],
            "text/html": [
              "\n",
              "  <div id=\"df-f87cdede-c5c9-4290-8cde-9b14181e181e\">\n",
              "    <div class=\"colab-df-container\">\n",
              "      <div>\n",
              "<style scoped>\n",
              "    .dataframe tbody tr th:only-of-type {\n",
              "        vertical-align: middle;\n",
              "    }\n",
              "\n",
              "    .dataframe tbody tr th {\n",
              "        vertical-align: top;\n",
              "    }\n",
              "\n",
              "    .dataframe thead th {\n",
              "        text-align: right;\n",
              "    }\n",
              "</style>\n",
              "<table border=\"1\" class=\"dataframe\">\n",
              "  <thead>\n",
              "    <tr style=\"text-align: right;\">\n",
              "      <th></th>\n",
              "      <th>Raw_value_MQ2</th>\n",
              "      <th>Raw_value_MQ3</th>\n",
              "      <th>Raw_value_MQ4</th>\n",
              "      <th>Raw_value_MQ135</th>\n",
              "      <th>Raw_value_MQ6</th>\n",
              "      <th>Raw_value_MQ7</th>\n",
              "      <th>Raw_value_MQ8</th>\n",
              "      <th>Raw_value_MQ9</th>\n",
              "      <th>day</th>\n",
              "    </tr>\n",
              "  </thead>\n",
              "  <tbody>\n",
              "    <tr>\n",
              "      <th>1438</th>\n",
              "      <td>0.026393</td>\n",
              "      <td>0.042033</td>\n",
              "      <td>0.016618</td>\n",
              "      <td>0.017595</td>\n",
              "      <td>0.018573</td>\n",
              "      <td>0.02737</td>\n",
              "      <td>0.026002</td>\n",
              "      <td>0.018573</td>\n",
              "      <td>0.0</td>\n",
              "    </tr>\n",
              "    <tr>\n",
              "      <th>1439</th>\n",
              "      <td>0.026393</td>\n",
              "      <td>0.050831</td>\n",
              "      <td>0.016618</td>\n",
              "      <td>0.017595</td>\n",
              "      <td>0.018573</td>\n",
              "      <td>0.02737</td>\n",
              "      <td>0.026393</td>\n",
              "      <td>0.018573</td>\n",
              "      <td>0.0</td>\n",
              "    </tr>\n",
              "    <tr>\n",
              "      <th>1440</th>\n",
              "      <td>0.026393</td>\n",
              "      <td>0.043988</td>\n",
              "      <td>0.016618</td>\n",
              "      <td>0.017595</td>\n",
              "      <td>0.018573</td>\n",
              "      <td>0.02737</td>\n",
              "      <td>0.026197</td>\n",
              "      <td>0.018573</td>\n",
              "      <td>1.0</td>\n",
              "    </tr>\n",
              "    <tr>\n",
              "      <th>1441</th>\n",
              "      <td>0.026393</td>\n",
              "      <td>0.047898</td>\n",
              "      <td>0.016618</td>\n",
              "      <td>0.017595</td>\n",
              "      <td>0.018573</td>\n",
              "      <td>0.02737</td>\n",
              "      <td>0.026002</td>\n",
              "      <td>0.018573</td>\n",
              "      <td>1.0</td>\n",
              "    </tr>\n",
              "    <tr>\n",
              "      <th>1442</th>\n",
              "      <td>0.026393</td>\n",
              "      <td>0.041056</td>\n",
              "      <td>0.016618</td>\n",
              "      <td>0.017595</td>\n",
              "      <td>0.018573</td>\n",
              "      <td>0.02737</td>\n",
              "      <td>0.026002</td>\n",
              "      <td>0.018573</td>\n",
              "      <td>1.0</td>\n",
              "    </tr>\n",
              "    <tr>\n",
              "      <th>1443</th>\n",
              "      <td>0.026393</td>\n",
              "      <td>0.044966</td>\n",
              "      <td>0.016618</td>\n",
              "      <td>0.017595</td>\n",
              "      <td>0.018573</td>\n",
              "      <td>0.02737</td>\n",
              "      <td>0.026002</td>\n",
              "      <td>0.018573</td>\n",
              "      <td>1.0</td>\n",
              "    </tr>\n",
              "    <tr>\n",
              "      <th>1444</th>\n",
              "      <td>0.026393</td>\n",
              "      <td>0.044575</td>\n",
              "      <td>0.016618</td>\n",
              "      <td>0.017595</td>\n",
              "      <td>0.018573</td>\n",
              "      <td>0.02737</td>\n",
              "      <td>0.026197</td>\n",
              "      <td>0.018573</td>\n",
              "      <td>1.0</td>\n",
              "    </tr>\n",
              "    <tr>\n",
              "      <th>1445</th>\n",
              "      <td>0.026393</td>\n",
              "      <td>0.045161</td>\n",
              "      <td>0.016618</td>\n",
              "      <td>0.017595</td>\n",
              "      <td>0.018573</td>\n",
              "      <td>0.02737</td>\n",
              "      <td>0.026002</td>\n",
              "      <td>0.018573</td>\n",
              "      <td>1.0</td>\n",
              "    </tr>\n",
              "    <tr>\n",
              "      <th>1446</th>\n",
              "      <td>0.026393</td>\n",
              "      <td>0.044966</td>\n",
              "      <td>0.016618</td>\n",
              "      <td>0.017595</td>\n",
              "      <td>0.018573</td>\n",
              "      <td>0.02737</td>\n",
              "      <td>0.026002</td>\n",
              "      <td>0.018573</td>\n",
              "      <td>1.0</td>\n",
              "    </tr>\n",
              "    <tr>\n",
              "      <th>1447</th>\n",
              "      <td>0.026393</td>\n",
              "      <td>0.038123</td>\n",
              "      <td>0.016618</td>\n",
              "      <td>0.017595</td>\n",
              "      <td>0.018573</td>\n",
              "      <td>0.02737</td>\n",
              "      <td>0.026002</td>\n",
              "      <td>0.018573</td>\n",
              "      <td>1.0</td>\n",
              "    </tr>\n",
              "    <tr>\n",
              "      <th>1448</th>\n",
              "      <td>0.026393</td>\n",
              "      <td>0.042033</td>\n",
              "      <td>0.016618</td>\n",
              "      <td>0.017595</td>\n",
              "      <td>0.018573</td>\n",
              "      <td>0.02737</td>\n",
              "      <td>0.026393</td>\n",
              "      <td>0.018573</td>\n",
              "      <td>1.0</td>\n",
              "    </tr>\n",
              "    <tr>\n",
              "      <th>1449</th>\n",
              "      <td>0.026393</td>\n",
              "      <td>0.044966</td>\n",
              "      <td>0.016618</td>\n",
              "      <td>0.017400</td>\n",
              "      <td>0.018573</td>\n",
              "      <td>0.02737</td>\n",
              "      <td>0.025611</td>\n",
              "      <td>0.018573</td>\n",
              "      <td>1.0</td>\n",
              "    </tr>\n",
              "  </tbody>\n",
              "</table>\n",
              "</div>\n",
              "      <button class=\"colab-df-convert\" onclick=\"convertToInteractive('df-f87cdede-c5c9-4290-8cde-9b14181e181e')\"\n",
              "              title=\"Convert this dataframe to an interactive table.\"\n",
              "              style=\"display:none;\">\n",
              "        \n",
              "  <svg xmlns=\"http://www.w3.org/2000/svg\" height=\"24px\"viewBox=\"0 0 24 24\"\n",
              "       width=\"24px\">\n",
              "    <path d=\"M0 0h24v24H0V0z\" fill=\"none\"/>\n",
              "    <path d=\"M18.56 5.44l.94 2.06.94-2.06 2.06-.94-2.06-.94-.94-2.06-.94 2.06-2.06.94zm-11 1L8.5 8.5l.94-2.06 2.06-.94-2.06-.94L8.5 2.5l-.94 2.06-2.06.94zm10 10l.94 2.06.94-2.06 2.06-.94-2.06-.94-.94-2.06-.94 2.06-2.06.94z\"/><path d=\"M17.41 7.96l-1.37-1.37c-.4-.4-.92-.59-1.43-.59-.52 0-1.04.2-1.43.59L10.3 9.45l-7.72 7.72c-.78.78-.78 2.05 0 2.83L4 21.41c.39.39.9.59 1.41.59.51 0 1.02-.2 1.41-.59l7.78-7.78 2.81-2.81c.8-.78.8-2.07 0-2.86zM5.41 20L4 18.59l7.72-7.72 1.47 1.35L5.41 20z\"/>\n",
              "  </svg>\n",
              "      </button>\n",
              "      \n",
              "  <style>\n",
              "    .colab-df-container {\n",
              "      display:flex;\n",
              "      flex-wrap:wrap;\n",
              "      gap: 12px;\n",
              "    }\n",
              "\n",
              "    .colab-df-convert {\n",
              "      background-color: #E8F0FE;\n",
              "      border: none;\n",
              "      border-radius: 50%;\n",
              "      cursor: pointer;\n",
              "      display: none;\n",
              "      fill: #1967D2;\n",
              "      height: 32px;\n",
              "      padding: 0 0 0 0;\n",
              "      width: 32px;\n",
              "    }\n",
              "\n",
              "    .colab-df-convert:hover {\n",
              "      background-color: #E2EBFA;\n",
              "      box-shadow: 0px 1px 2px rgba(60, 64, 67, 0.3), 0px 1px 3px 1px rgba(60, 64, 67, 0.15);\n",
              "      fill: #174EA6;\n",
              "    }\n",
              "\n",
              "    [theme=dark] .colab-df-convert {\n",
              "      background-color: #3B4455;\n",
              "      fill: #D2E3FC;\n",
              "    }\n",
              "\n",
              "    [theme=dark] .colab-df-convert:hover {\n",
              "      background-color: #434B5C;\n",
              "      box-shadow: 0px 1px 3px 1px rgba(0, 0, 0, 0.15);\n",
              "      filter: drop-shadow(0px 1px 2px rgba(0, 0, 0, 0.3));\n",
              "      fill: #FFFFFF;\n",
              "    }\n",
              "  </style>\n",
              "\n",
              "      <script>\n",
              "        const buttonEl =\n",
              "          document.querySelector('#df-f87cdede-c5c9-4290-8cde-9b14181e181e button.colab-df-convert');\n",
              "        buttonEl.style.display =\n",
              "          google.colab.kernel.accessAllowed ? 'block' : 'none';\n",
              "\n",
              "        async function convertToInteractive(key) {\n",
              "          const element = document.querySelector('#df-f87cdede-c5c9-4290-8cde-9b14181e181e');\n",
              "          const dataTable =\n",
              "            await google.colab.kernel.invokeFunction('convertToInteractive',\n",
              "                                                     [key], {});\n",
              "          if (!dataTable) return;\n",
              "\n",
              "          const docLinkHtml = 'Like what you see? Visit the ' +\n",
              "            '<a target=\"_blank\" href=https://colab.research.google.com/notebooks/data_table.ipynb>data table notebook</a>'\n",
              "            + ' to learn more about interactive tables.';\n",
              "          element.innerHTML = '';\n",
              "          dataTable['output_type'] = 'display_data';\n",
              "          await google.colab.output.renderOutput(dataTable, element);\n",
              "          const docLink = document.createElement('div');\n",
              "          docLink.innerHTML = docLinkHtml;\n",
              "          element.appendChild(docLink);\n",
              "        }\n",
              "      </script>\n",
              "    </div>\n",
              "  </div>\n",
              "  "
            ]
          },
          "metadata": {},
          "execution_count": 10
        }
      ]
    },
    {
      "cell_type": "markdown",
      "source": [
        "### Splitting the data into training, testing, and validation sets\n",
        "\n",
        "We'll save the data for the first 50 minutes of each day as test set and split the rest as training and validation sets."
      ],
      "metadata": {
        "id": "oFqYELh_wZrP"
      }
    },
    {
      "cell_type": "code",
      "source": [
        "# Test data for 100 minutes\n",
        "test_data_first_day = fields[0:50]\n",
        "test_data_second_day = fields[1440:1490]\n",
        "test_data_two_days = [test_data_first_day, test_data_second_day]\n",
        "# we DO NOT shuffle the test set\n",
        "test_data = pd.concat(test_data_two_days)\n",
        "\n",
        "\n",
        "# Now remove the test data from the data set (USE VALUES UNTIL 3000 ENTRIES)\n",
        "data_first_day = fields[50:1440]\n",
        "data_second_day = fields[1490:3000]\n",
        "data_two_days = [data_first_day, data_second_day]\n",
        "data_rest = pd.concat(data_two_days)\n",
        "# SHUFFLE the dataset before splitting into training and validation and reset the index\n",
        "data_rest = data_rest.sample(frac=1).reset_index(drop=True)\n",
        "print(data_rest[:10])\n",
        "\n",
        "# Separate the data into features and targets\n",
        "target_field = ['day']\n",
        "data_features, data_targets = data_rest.drop(target_field, axis=1), data_rest[target_field]\n",
        "test_features, test_targets = test_data.drop(target_field, axis=1), test_data[target_field]\n"
      ],
      "metadata": {
        "colab": {
          "base_uri": "https://localhost:8080/"
        },
        "id": "DkPgCSJ0sHWN",
        "outputId": "4b7a8dee-596d-466c-b02f-c44ba86d041c"
      },
      "execution_count": 11,
      "outputs": [
        {
          "output_type": "stream",
          "name": "stdout",
          "text": [
            "   Raw_value_MQ2  Raw_value_MQ3  Raw_value_MQ4  Raw_value_MQ135  \\\n",
            "0       0.026393       0.061584       0.016618         0.017595   \n",
            "1       0.025611       0.085044       0.016618         0.017595   \n",
            "2       0.028348       0.035191       0.017595         0.017595   \n",
            "3       0.026393       0.055718       0.016618         0.017595   \n",
            "4       0.028348       0.036168       0.017595         0.017595   \n",
            "5       0.026393       0.049658       0.016422         0.017595   \n",
            "6       0.026393       0.047898       0.016618         0.017595   \n",
            "7       0.026393       0.048680       0.016618         0.017595   \n",
            "8       0.024829       0.068231       0.015640         0.017595   \n",
            "9       0.025415       0.073509       0.016618         0.017400   \n",
            "\n",
            "   Raw_value_MQ6  Raw_value_MQ7  Raw_value_MQ8  Raw_value_MQ9  day  \n",
            "0       0.018573       0.027370       0.026393       0.018573  0.0  \n",
            "1       0.018573       0.028348       0.026393       0.018573  0.0  \n",
            "2       0.018573       0.026784       0.025415       0.018377  1.0  \n",
            "3       0.018573       0.027370       0.026002       0.018573  0.0  \n",
            "4       0.018573       0.026784       0.025415       0.018573  1.0  \n",
            "5       0.018573       0.027370       0.025415       0.018573  0.0  \n",
            "6       0.018573       0.027370       0.025415       0.018573  1.0  \n",
            "7       0.018573       0.027370       0.026393       0.018573  0.0  \n",
            "8       0.018573       0.028348       0.026393       0.018377  0.0  \n",
            "9       0.018573       0.029326       0.026393       0.018573  0.0  \n"
          ]
        }
      ]
    },
    {
      "cell_type": "code",
      "source": [
        "# Create test features list.\n",
        "test_features_list=[]\n",
        "\n",
        "for row in test_features.iterrows():\n",
        "    index, data = row\n",
        "    test_features_list.append(data.tolist())\n",
        "\n",
        "# Create test targets list.\n",
        "test_targets_list=[]\n",
        "\n",
        "for row in test_targets.iterrows():\n",
        "    index, data = row\n",
        "    test_targets_list.append(data.tolist())\n",
        "\n",
        "\n",
        "# Create data features list.\n",
        "data_features_list=[]\n",
        "\n",
        "for row in data_features.iterrows():\n",
        "    index, data = row\n",
        "    data_features_list.append(data.tolist())\n",
        "\n",
        "# Create data targets list.\n",
        "data_targets_list=[]\n",
        "\n",
        "for row in data_targets.iterrows():\n",
        "    index, data = row\n",
        "    data_targets_list.append(data.tolist())"
      ],
      "metadata": {
        "id": "j42CvPkxEloc"
      },
      "execution_count": 12,
      "outputs": []
    },
    {
      "cell_type": "code",
      "source": [
        "'''\n",
        "print(data_features_list[:10])\n",
        "print(data_targets_list[:10])\n",
        "print(len(data_targets_list))\n",
        "'''"
      ],
      "metadata": {
        "colab": {
          "base_uri": "https://localhost:8080/",
          "height": 35
        },
        "id": "xi29igGtQ_Iz",
        "outputId": "4d62d96d-558e-4938-b1b9-f67c3b57dbe1"
      },
      "execution_count": null,
      "outputs": [
        {
          "output_type": "execute_result",
          "data": {
            "text/plain": [
              "'\\nprint(data_features_list[:10])\\nprint(data_targets_list[:10])\\nprint(len(data_targets_list))\\n'"
            ],
            "application/vnd.google.colaboratory.intrinsic+json": {
              "type": "string"
            }
          },
          "metadata": {},
          "execution_count": 10
        }
      ]
    },
    {
      "cell_type": "code",
      "source": [
        "# Split into training and validation data\n",
        "# Hold out the last 500 entries or so of the remaining data as a validation set\n",
        "train_features, train_targets = np.array(data_features_list[:2400]), np.array(data_targets_list[:2400])\n",
        "val_features, val_targets = np.array(data_features_list[2400:]), np.array(data_targets_list[2400:])\n",
        "test_features, test_targets = np.array(test_features_list[:]), np.array(test_targets_list[:])"
      ],
      "metadata": {
        "id": "P0bVagWxYEe8"
      },
      "execution_count": 13,
      "outputs": []
    },
    {
      "cell_type": "code",
      "source": [
        "'''\n",
        "print(len(train_features))\n",
        "print(len(train_targets))\n",
        "\n",
        "\n",
        "print(len(val_features))\n",
        "print(len(val_targets))\n",
        "'''"
      ],
      "metadata": {
        "colab": {
          "base_uri": "https://localhost:8080/",
          "height": 35
        },
        "id": "YlaNt76eYEhz",
        "outputId": "88f5ce1a-dbbe-409a-9c50-b859057d7e5e"
      },
      "execution_count": null,
      "outputs": [
        {
          "output_type": "execute_result",
          "data": {
            "text/plain": [
              "'\\nprint(len(train_features))\\nprint(len(train_targets))\\n\\n\\nprint(len(val_features))\\nprint(len(val_targets))\\n'"
            ],
            "application/vnd.google.colaboratory.intrinsic+json": {
              "type": "string"
            }
          },
          "metadata": {},
          "execution_count": 12
        }
      ]
    },
    {
      "cell_type": "code",
      "source": [
        "# Convert targets to categorical\n",
        "print(tf.__version__)\n",
        "\n",
        "train_targets_categorical = tf.keras.utils.to_categorical(train_targets, dtype =\"uint8\")\n",
        "val_targets_categorical = tf.keras.utils.to_categorical(val_targets, dtype =\"uint8\")\n",
        "test_targets_categorical = tf.keras.utils.to_categorical(test_targets, dtype =\"uint8\")"
      ],
      "metadata": {
        "id": "Y3RCd06Pr4LF",
        "colab": {
          "base_uri": "https://localhost:8080/"
        },
        "outputId": "8f6ffce6-9e95-4400-98e7-f48ab75ae2c2"
      },
      "execution_count": 14,
      "outputs": [
        {
          "output_type": "stream",
          "name": "stdout",
          "text": [
            "2.5.0\n"
          ]
        }
      ]
    },
    {
      "cell_type": "code",
      "source": [
        "print(test_targets_categorical[48:53])"
      ],
      "metadata": {
        "colab": {
          "base_uri": "https://localhost:8080/"
        },
        "id": "xN5D5JFftVBO",
        "outputId": "102844e3-0675-4223-e506-4cb28e19bc95"
      },
      "execution_count": 15,
      "outputs": [
        {
          "output_type": "stream",
          "name": "stdout",
          "text": [
            "[[1 0]\n",
            " [1 0]\n",
            " [0 1]\n",
            " [0 1]\n",
            " [0 1]]\n"
          ]
        }
      ]
    },
    {
      "cell_type": "markdown",
      "source": [
        "##Build a Keras model to train the dataset."
      ],
      "metadata": {
        "id": "5tFi6gswZXIM"
      }
    },
    {
      "cell_type": "code",
      "source": [
        "from tensorflow import keras\n",
        "from tensorflow.keras import Sequential\n",
        "from tensorflow.keras.layers import Dense, Dropout\n",
        "\n",
        "model=Sequential()\n",
        "model.add(Dense(256, input_dim=8,activation='relu'))\n",
        "model.add(Dropout(0.1))\n",
        "model.add(Dense(128, activation='relu'))\n",
        "model.add(Dropout(0.1))\n",
        "model.add(Dense(64, activation='relu'))\n",
        "model.add(Dropout(0.1))\n",
        "model.add(Dense(2))\n",
        "\n",
        "print(model.summary())"
      ],
      "metadata": {
        "colab": {
          "base_uri": "https://localhost:8080/"
        },
        "id": "PWlHyFQiYEkg",
        "outputId": "64897910-437b-492f-d7c9-c0027d6aee16"
      },
      "execution_count": 16,
      "outputs": [
        {
          "output_type": "stream",
          "name": "stdout",
          "text": [
            "Model: \"sequential\"\n",
            "_________________________________________________________________\n",
            "Layer (type)                 Output Shape              Param #   \n",
            "=================================================================\n",
            "dense (Dense)                (None, 256)               2304      \n",
            "_________________________________________________________________\n",
            "dropout (Dropout)            (None, 256)               0         \n",
            "_________________________________________________________________\n",
            "dense_1 (Dense)              (None, 128)               32896     \n",
            "_________________________________________________________________\n",
            "dropout_1 (Dropout)          (None, 128)               0         \n",
            "_________________________________________________________________\n",
            "dense_2 (Dense)              (None, 64)                8256      \n",
            "_________________________________________________________________\n",
            "dropout_2 (Dropout)          (None, 64)                0         \n",
            "_________________________________________________________________\n",
            "dense_3 (Dense)              (None, 2)                 130       \n",
            "=================================================================\n",
            "Total params: 43,586\n",
            "Trainable params: 43,586\n",
            "Non-trainable params: 0\n",
            "_________________________________________________________________\n",
            "None\n"
          ]
        }
      ]
    },
    {
      "cell_type": "code",
      "source": [
        "from tensorflow.keras.optimizers import Adam\n",
        "\n",
        "\n",
        "adam = Adam(learning_rate=0.000001)\n",
        "# https://keras.io/api/losses/probabilistic_losses/#categorical_crossentropy-function\n",
        "model.compile(loss='categorical_crossentropy', \n",
        "             optimizer=adam, \n",
        "             metrics=['accuracy'])"
      ],
      "metadata": {
        "id": "B4x9GyApaAaq"
      },
      "execution_count": 17,
      "outputs": []
    },
    {
      "cell_type": "code",
      "source": [
        "from tensorflow.keras.callbacks import ModelCheckpoint  \n",
        "\n",
        "batch_size = 50\n",
        "num_epochs = 500\n",
        "\n",
        "checkpoint = ModelCheckpoint(filepath='food_quality.weights.best.h5', verbose=1, \n",
        "                               save_best_only=True)\n",
        "\n",
        "callbacks_list = [checkpoint]\n",
        "\n",
        "history = model.fit(train_features, train_targets_categorical, validation_data=(val_features, val_targets_categorical), batch_size=batch_size, epochs=num_epochs, callbacks=callbacks_list)"
      ],
      "metadata": {
        "id": "cumJ4mSLQygq"
      },
      "execution_count": null,
      "outputs": []
    },
    {
      "cell_type": "code",
      "source": [
        "#Get history\n",
        "history_dict = history.history\n",
        "history_dict.keys()\n",
        "\n",
        "#dict_keys(['loss', 'accuracy', 'val_loss', 'val_accuracy'])\n",
        "import matplotlib.pyplot as plt\n",
        "\n",
        "acc = history_dict['accuracy']\n",
        "val_acc = history_dict['val_accuracy']\n",
        "loss = history_dict['loss']\n",
        "val_loss = history_dict['val_loss']\n",
        "\n",
        "epochs = range(1, len(acc) + 1)\n",
        "\n",
        "# \"g\" is for \"solid green line\"\n",
        "plt.plot(epochs, loss, 'g', label='Training loss')\n",
        "# b is for \"solid blue line\"\n",
        "plt.plot(epochs, val_loss, 'b', label='Validation loss')\n",
        "plt.title('Training and validation loss')\n",
        "plt.xlabel('Epochs')\n",
        "plt.ylabel('Loss')\n",
        "plt.legend()\n",
        "\n",
        "plt.show()"
      ],
      "metadata": {
        "colab": {
          "base_uri": "https://localhost:8080/",
          "height": 294
        },
        "id": "_kPD36K5KE-6",
        "outputId": "b8c740a2-1d59-4c2a-bde9-7d7e8fcde0b8"
      },
      "execution_count": 19,
      "outputs": [
        {
          "output_type": "display_data",
          "data": {
            "text/plain": [
              "<Figure size 432x288 with 1 Axes>"
            ],
            "image/png": "[encoded data removed]"
          },
          "metadata": {
            "image/png": {
              "width": 376,
              "height": 277
            },
            "needs_background": "light"
          }
        }
      ]
    },
    {
      "cell_type": "code",
      "source": [
        "#Evaluate model with the test set\n",
        "print(len(test_features))\n",
        "scores = model.evaluate(test_features, test_targets_categorical, verbose=1)"
      ],
      "metadata": {
        "colab": {
          "base_uri": "https://localhost:8080/"
        },
        "id": "JnLKp5E2dTKO",
        "outputId": "c6a90689-383c-4c11-e9b9-df6b691e09ba"
      },
      "execution_count": 20,
      "outputs": [
        {
          "output_type": "stream",
          "name": "stdout",
          "text": [
            "100\n",
            "4/4 [==============================] - 0s 3ms/step - loss: 0.2289 - accuracy: 1.0000\n"
          ]
        }
      ]
    },
    {
      "cell_type": "code",
      "source": [
        "#Predict an output with one entry\n",
        "test_features = np.array(test_features_list[2])\n",
        "test_features = np.expand_dims(test_features, axis=0)\n",
        "print(test_features)\n",
        "score = model.predict(test_features, verbose=1)\n",
        "print(score)\n",
        "##Show the argmax label\n",
        "print(tf.math.argmax(score[0]))"
      ],
      "metadata": {
        "colab": {
          "base_uri": "https://localhost:8080/"
        },
        "id": "XB8TfB9nePTz",
        "outputId": "b47a6062-39d1-45aa-9253-16640948129c"
      },
      "execution_count": 33,
      "outputs": [
        {
          "output_type": "stream",
          "name": "stdout",
          "text": [
            "[[0.02443793 0.09071359 0.01564027 0.0173998  0.01857283 0.028348\n",
            "  0.02561095 0.01955034]]\n",
            "1/1 [==============================] - 0s 19ms/step\n",
            "[[ 0.0119415 -0.004064 ]]\n",
            "tf.Tensor(0, shape=(), dtype=int64)\n"
          ]
        }
      ]
    },
    {
      "cell_type": "markdown",
      "source": [
        "##Reconstruct a new model from the .h5 format"
      ],
      "metadata": {
        "id": "ysmP00Aa4WzV"
      }
    },
    {
      "cell_type": "code",
      "source": [
        "reconstructed_model = keras.models.load_model(\"/content/food_quality.weights.best.h5\")"
      ],
      "metadata": {
        "id": "acWNz4Bm2FcF"
      },
      "execution_count": 34,
      "outputs": []
    },
    {
      "cell_type": "code",
      "source": [
        "#Evaluate the reconstructed model with an entry from the test set\n",
        "score = reconstructed_model.predict(test_features, verbose=1)\n",
        "print(score)\n",
        "print(tf.math.argmax(score[0]))"
      ],
      "metadata": {
        "colab": {
          "base_uri": "https://localhost:8080/"
        },
        "id": "WpU1xX0I4rq4",
        "outputId": "080d760f-b532-4dd2-ab4d-7685dbdab197"
      },
      "execution_count": 35,
      "outputs": [
        {
          "output_type": "stream",
          "name": "stdout",
          "text": [
            "1/1 [==============================] - 0s 45ms/step\n",
            "[[ 0.01158177 -0.00426033]]\n",
            "tf.Tensor(0, shape=(), dtype=int64)\n"
          ]
        }
      ]
    },
    {
      "cell_type": "code",
      "source": [
        "#Save the model to the saved model format\n",
        "reconstructed_model.save('/content/saved_model')"
      ],
      "metadata": {
        "colab": {
          "base_uri": "https://localhost:8080/"
        },
        "id": "XAljufFi46J5",
        "outputId": "c85efc6c-d073-4dcb-fdf1-1313f7026343"
      },
      "execution_count": 36,
      "outputs": [
        {
          "output_type": "stream",
          "name": "stdout",
          "text": [
            "INFO:tensorflow:Assets written to: /content/saved_model/assets\n"
          ]
        }
      ]
    },
    {
      "cell_type": "markdown",
      "source": [
        "##Convert to tflite"
      ],
      "metadata": {
        "id": "VqlUP7VK5Ilb"
      }
    },
    {
      "cell_type": "code",
      "source": [
        "# Convert the model\n",
        "converter = tf.lite.TFLiteConverter.from_saved_model('/content/saved_model') # path to the SavedModel directory\n",
        "tflite_model = converter.convert()\n",
        "\n",
        "# Save the model.\n",
        "with open('food_model_250.tflite', 'wb') as f:\n",
        "  f.write(tflite_model)"
      ],
      "metadata": {
        "id": "CPezFEUh48yb"
      },
      "execution_count": 37,
      "outputs": []
    },
    {
      "cell_type": "code",
      "source": [
        "'''\n",
        "test_features = [0.04007820136852395, 0.03734115347018573, 0.020527859237536656, 0.028347996089931573, 0.030303030303030304, 0.03616813294232649, 0.03479960899315738, 0.028347996089931573]\n",
        "test_features = np.array(test_features)\n",
        "test_features = np.expand_dims(test_features, axis=0)\n",
        "print(test_features)\n",
        "'''"
      ],
      "metadata": {
        "id": "2xCOTJohD76W"
      },
      "execution_count": null,
      "outputs": []
    },
    {
      "cell_type": "code",
      "source": [
        "# Load the TFLite model and allocate tensors.\n",
        "interpreter = tf.lite.Interpreter(model_path=\"/content/food_model_250.tflite\")\n",
        "interpreter.allocate_tensors()\n",
        "\n",
        "# Get input and output tensors details.\n",
        "input_details = interpreter.get_input_details()\n",
        "output_details = interpreter.get_output_details()\n",
        "print(input_details)\n",
        "print(output_details)\n",
        "\n",
        "interpreter.set_tensor(input_details[0]['index'], tf.cast(test_features, tf.float32))\n",
        "\n",
        "interpreter.invoke()\n",
        "\n",
        "# The function `get_tensor()` returns a copy of the tensor data.\n",
        "# Use `tensor()` in order to get a pointer to the tensor.\n",
        "output_data = interpreter.get_tensor(output_details[0]['index'])\n",
        "print(output_data)"
      ],
      "metadata": {
        "colab": {
          "base_uri": "https://localhost:8080/"
        },
        "id": "SCCWgEEj6X1Z",
        "outputId": "dbeda617-e2d0-4d33-d65e-98e0138f598f"
      },
      "execution_count": 38,
      "outputs": [
        {
          "output_type": "stream",
          "name": "stdout",
          "text": [
            "[{'name': 'serving_default_dense_input:0', 'index': 0, 'shape': array([1, 8], dtype=int32), 'shape_signature': array([-1,  8], dtype=int32), 'dtype': <class 'numpy.float32'>, 'quantization': (0.0, 0), 'quantization_parameters': {'scales': array([], dtype=float32), 'zero_points': array([], dtype=int32), 'quantized_dimension': 0}, 'sparsity_parameters': {}}]\n",
            "[{'name': 'StatefulPartitionedCall:0', 'index': 12, 'shape': array([1, 2], dtype=int32), 'shape_signature': array([-1,  2], dtype=int32), 'dtype': <class 'numpy.float32'>, 'quantization': (0.0, 0), 'quantization_parameters': {'scales': array([], dtype=float32), 'zero_points': array([], dtype=int32), 'quantized_dimension': 0}, 'sparsity_parameters': {}}]\n",
            "[[ 0.01158177 -0.00426032]]\n"
          ]
        }
      ]
    }
  ]
}