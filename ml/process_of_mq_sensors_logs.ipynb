{
  "nbformat": 4,
  "nbformat_minor": 0,
  "metadata": {
    "colab": {
      "name": "process_of_mq_sensors_logs.ipynb",
      "provenance": [],
      "collapsed_sections": []
    },
    "kernelspec": {
      "name": "python3",
      "display_name": "Python 3"
    },
    "language_info": {
      "name": "python"
    }
  },
  "cells": [
    {
      "cell_type": "markdown",
      "source": [
        "#Processing of the MQ sensors' logs"
      ],
      "metadata": {
        "id": "tCuyquL9mnh3"
      }
    },
    {
      "cell_type": "markdown",
      "source": [
        "In this **project**, we'll build a neural network and use it to predict food quality."
      ],
      "metadata": {
        "id": "XWWn0bJ2myKj"
      }
    },
    {
      "cell_type": "code",
      "execution_count": 149,
      "metadata": {
        "colab": {
          "base_uri": "https://localhost:8080/"
        },
        "id": "s8l7oHzDjejD",
        "outputId": "ce3e5fc0-92a3-4a5a-8855-4f7c5a893d79"
      },
      "outputs": [
        {
          "output_type": "stream",
          "name": "stdout",
          "text": [
            "The autoreload extension is already loaded. To reload it, use:\n",
            "  %reload_ext autoreload\n"
          ]
        }
      ],
      "source": [
        "#Importing modules\n",
        "%matplotlib inline\n",
        "%load_ext autoreload\n",
        "%autoreload 2\n",
        "%config InlineBackend.figure_format = 'retina'\n",
        "\n",
        "import numpy as np\n",
        "import pandas as pd\n",
        "import matplotlib.pyplot as plt\n",
        "import random"
      ]
    },
    {
      "cell_type": "markdown",
      "source": [
        "## Load and prepare the data\n",
        "\n",
        "A critical step in working with neural networks is preparing the data correctly."
      ],
      "metadata": {
        "id": "PbsEQumgn1IB"
      }
    },
    {
      "cell_type": "code",
      "source": [
        "data_path = 'mq_sensors_logs_feta.csv'\n",
        "\n",
        "df_feta = pd.read_csv(data_path)\n",
        "# Watch all columns\n",
        "pd.options.display.max_columns = None\n",
        "\n",
        "# Add value 0 for first day and 1 for rest.\n",
        "df_feta.loc[0:1440, 'day'] = 0\n",
        "df_feta.loc[1440:, 'day'] = 1\n",
        "\n",
        "#rides_feta.head(10)\n",
        "print(df_feta[1438:1450])"
      ],
      "metadata": {
        "colab": {
          "base_uri": "https://localhost:8080/"
        },
        "id": "ScZyMM3YnHdK",
        "outputId": "a1582f7d-28e7-4718-891f-0903a3e98ce8"
      },
      "execution_count": 139,
      "outputs": [
        {
          "output_type": "stream",
          "name": "stdout",
          "text": [
            "      Timestamp  Raw_value_MQ2  Raw_value_MQ3  Raw_value_MQ4  Raw_value_MQ135  \\\n",
            "1438       1445         1728.0         2752.0         1088.0           1152.0   \n",
            "1439       1446         1728.0         3328.0         1088.0           1152.0   \n",
            "1440       1447         1728.0         2880.0         1088.0           1152.0   \n",
            "1441       1448         1728.0         3136.0         1088.0           1152.0   \n",
            "1442       1449         1728.0         2688.0         1088.0           1152.0   \n",
            "1443       1450         1728.0         2944.0         1088.0           1152.0   \n",
            "1444       1451         1728.0         2918.4         1088.0           1152.0   \n",
            "1445       1452         1728.0         2956.8         1088.0           1152.0   \n",
            "1446       1453         1728.0         2944.0         1088.0           1152.0   \n",
            "1447       1454         1728.0         2496.0         1088.0           1152.0   \n",
            "1448       1455         1728.0         2752.0         1088.0           1152.0   \n",
            "1449       1456         1728.0         2944.0         1088.0           1139.2   \n",
            "\n",
            "      Raw_value_MQ6  Raw_value_MQ7  Raw_value_MQ8  Raw_value_MQ9      day  \n",
            "1438         1216.0         1792.0         1702.4         1216.0 NaN  0.0  \n",
            "1439         1216.0         1792.0         1728.0         1216.0 NaN  0.0  \n",
            "1440         1216.0         1792.0         1715.2         1216.0 NaN  1.0  \n",
            "1441         1216.0         1792.0         1702.4         1216.0 NaN  1.0  \n",
            "1442         1216.0         1792.0         1702.4         1216.0 NaN  1.0  \n",
            "1443         1216.0         1792.0         1702.4         1216.0 NaN  1.0  \n",
            "1444         1216.0         1792.0         1715.2         1216.0 NaN  1.0  \n",
            "1445         1216.0         1792.0         1702.4         1216.0 NaN  1.0  \n",
            "1446         1216.0         1792.0         1702.4         1216.0 NaN  1.0  \n",
            "1447         1216.0         1792.0         1702.4         1216.0 NaN  1.0  \n",
            "1448         1216.0         1792.0         1728.0         1216.0 NaN  1.0  \n",
            "1449         1216.0         1792.0         1676.8         1216.0 NaN  1.0  \n"
          ]
        }
      ]
    },
    {
      "cell_type": "markdown",
      "source": [
        "##Checking out the data\n",
        "This dataset has logs from various different simple air sensors that are collected during food degradation over a period of time. Logs are collected in intervals of 1 minute so for one day we have 1440 entries. Check the basic set up for the [MQ-2 sensor](https://medium.com/p/5c7e2338267f) and the whole [bunch of air sensors](https://medium.com/p/b4523540f63d)."
      ],
      "metadata": {
        "id": "2JG4jZIOoxHs"
      }
    },
    {
      "cell_type": "code",
      "source": [
        "df_feta[:7000].plot(x='Timestamp', y='Raw_value_MQ2')"
      ],
      "metadata": {
        "colab": {
          "base_uri": "https://localhost:8080/",
          "height": 296
        },
        "id": "busCtSwIqjBe",
        "outputId": "e82af037-3553-4463-f408-51dd23c6e083"
      },
      "execution_count": 140,
      "outputs": [
        {
          "output_type": "execute_result",
          "data": {
            "text/plain": [
              "<matplotlib.axes._subplots.AxesSubplot at 0x7f00fcf50450>"
            ]
          },
          "metadata": {},
          "execution_count": 140
        },
        {
          "output_type": "display_data",
          "data": {
            "text/plain": [
              "<Figure size 432x288 with 1 Axes>"
            ],
            "image/png": "[encoded data removed]"
          },
          "metadata": {
            "image/png": {
              "width": 385,
              "height": 261
            },
            "needs_background": "light"
          }
        }
      ]
    },
    {
      "cell_type": "markdown",
      "source": [
        "##Normalizing the values\n",
        "We are dividing every log by 65472 wich is the maximum value each sensor can give. For more info read [this](https://github.com/adafruit/Adafruit_CircuitPython_MCP3xxx/blob/main/adafruit_mcp3xxx/analog_in.py#L50-L54)."
      ],
      "metadata": {
        "id": "mAmDP9h3yGDM"
      }
    },
    {
      "cell_type": "code",
      "source": [
        "sensor_names = ['Raw_value_MQ2', 'Raw_value_MQ3', 'Raw_value_MQ4', 'Raw_value_MQ135', 'Raw_value_MQ6', 'Raw_value_MQ7', 'Raw_value_MQ8', 'Raw_value_MQ9']\n",
        "sensor_names_with_day = ['Raw_value_MQ2', 'Raw_value_MQ3', 'Raw_value_MQ4', 'Raw_value_MQ135', 'Raw_value_MQ6', 'Raw_value_MQ7', 'Raw_value_MQ8', 'Raw_value_MQ9', 'day']\n",
        "\n",
        "MAX_VALUE = 65472\n",
        "for each in sensor_names:\n",
        "    df_feta.loc[:, each] = df_feta[each] / MAX_VALUE\n",
        "\n",
        "df_feta[:10]"
      ],
      "metadata": {
        "colab": {
          "base_uri": "https://localhost:8080/",
          "height": 363
        },
        "id": "LKti1J_jyktx",
        "outputId": "fcef6fe3-d2bc-45d4-9e27-10e897a44270"
      },
      "execution_count": 141,
      "outputs": [
        {
          "output_type": "execute_result",
          "data": {
            "text/plain": [
              "   Timestamp  Raw_value_MQ2  Raw_value_MQ3  Raw_value_MQ4  Raw_value_MQ135  \\\n",
              "0          0       0.024829       0.098729        0.01564         0.017595   \n",
              "1          1       0.024438       0.087977        0.01564         0.017595   \n",
              "2          2       0.024438       0.090714        0.01564         0.017400   \n",
              "3          3       0.024438       0.080352        0.01564         0.017595   \n",
              "4          4       0.024438       0.077419        0.01564         0.017595   \n",
              "5          5       0.024438       0.084066        0.01564         0.017400   \n",
              "6          6       0.024438       0.089932        0.01564         0.017400   \n",
              "7          7       0.024438       0.102639        0.01564         0.017400   \n",
              "8          8       0.024438       0.091691        0.01564         0.017400   \n",
              "9          9       0.024438       0.095015        0.01564         0.017595   \n",
              "\n",
              "   Raw_value_MQ6  Raw_value_MQ7  Raw_value_MQ8  Raw_value_MQ9      day  \n",
              "0       0.018573       0.028348       0.025415       0.019550 NaN  0.0  \n",
              "1       0.018573       0.028348       0.025415       0.019550 NaN  0.0  \n",
              "2       0.018573       0.028348       0.025611       0.019550 NaN  0.0  \n",
              "3       0.018573       0.028348       0.025806       0.018768 NaN  0.0  \n",
              "4       0.018573       0.028543       0.026197       0.019159 NaN  0.0  \n",
              "5       0.018573       0.028348       0.026393       0.018573 NaN  0.0  \n",
              "6       0.018573       0.028348       0.026002       0.018573 NaN  0.0  \n",
              "7       0.018573       0.028348       0.026393       0.019550 NaN  0.0  \n",
              "8       0.018573       0.028348       0.026197       0.018964 NaN  0.0  \n",
              "9       0.018573       0.028348       0.026393       0.019550 NaN  0.0  "
            ],
            "text/html": [
              "\n",
              "  <div id=\"df-892e7ead-95c0-4fc7-b98c-b8b9a52e0bc7\">\n",
              "    <div class=\"colab-df-container\">\n",
              "      <div>\n",
              "<style scoped>\n",
              "    .dataframe tbody tr th:only-of-type {\n",
              "        vertical-align: middle;\n",
              "    }\n",
              "\n",
              "    .dataframe tbody tr th {\n",
              "        vertical-align: top;\n",
              "    }\n",
              "\n",
              "    .dataframe thead th {\n",
              "        text-align: right;\n",
              "    }\n",
              "</style>\n",
              "<table border=\"1\" class=\"dataframe\">\n",
              "  <thead>\n",
              "    <tr style=\"text-align: right;\">\n",
              "      <th></th>\n",
              "      <th>Timestamp</th>\n",
              "      <th>Raw_value_MQ2</th>\n",
              "      <th>Raw_value_MQ3</th>\n",
              "      <th>Raw_value_MQ4</th>\n",
              "      <th>Raw_value_MQ135</th>\n",
              "      <th>Raw_value_MQ6</th>\n",
              "      <th>Raw_value_MQ7</th>\n",
              "      <th>Raw_value_MQ8</th>\n",
              "      <th>Raw_value_MQ9</th>\n",
              "      <th></th>\n",
              "      <th>day</th>\n",
              "    </tr>\n",
              "  </thead>\n",
              "  <tbody>\n",
              "    <tr>\n",
              "      <th>0</th>\n",
              "      <td>0</td>\n",
              "      <td>0.024829</td>\n",
              "      <td>0.098729</td>\n",
              "      <td>0.01564</td>\n",
              "      <td>0.017595</td>\n",
              "      <td>0.018573</td>\n",
              "      <td>0.028348</td>\n",
              "      <td>0.025415</td>\n",
              "      <td>0.019550</td>\n",
              "      <td>NaN</td>\n",
              "      <td>0.0</td>\n",
              "    </tr>\n",
              "    <tr>\n",
              "      <th>1</th>\n",
              "      <td>1</td>\n",
              "      <td>0.024438</td>\n",
              "      <td>0.087977</td>\n",
              "      <td>0.01564</td>\n",
              "      <td>0.017595</td>\n",
              "      <td>0.018573</td>\n",
              "      <td>0.028348</td>\n",
              "      <td>0.025415</td>\n",
              "      <td>0.019550</td>\n",
              "      <td>NaN</td>\n",
              "      <td>0.0</td>\n",
              "    </tr>\n",
              "    <tr>\n",
              "      <th>2</th>\n",
              "      <td>2</td>\n",
              "      <td>0.024438</td>\n",
              "      <td>0.090714</td>\n",
              "      <td>0.01564</td>\n",
              "      <td>0.017400</td>\n",
              "      <td>0.018573</td>\n",
              "      <td>0.028348</td>\n",
              "      <td>0.025611</td>\n",
              "      <td>0.019550</td>\n",
              "      <td>NaN</td>\n",
              "      <td>0.0</td>\n",
              "    </tr>\n",
              "    <tr>\n",
              "      <th>3</th>\n",
              "      <td>3</td>\n",
              "      <td>0.024438</td>\n",
              "      <td>0.080352</td>\n",
              "      <td>0.01564</td>\n",
              "      <td>0.017595</td>\n",
              "      <td>0.018573</td>\n",
              "      <td>0.028348</td>\n",
              "      <td>0.025806</td>\n",
              "      <td>0.018768</td>\n",
              "      <td>NaN</td>\n",
              "      <td>0.0</td>\n",
              "    </tr>\n",
              "    <tr>\n",
              "      <th>4</th>\n",
              "      <td>4</td>\n",
              "      <td>0.024438</td>\n",
              "      <td>0.077419</td>\n",
              "      <td>0.01564</td>\n",
              "      <td>0.017595</td>\n",
              "      <td>0.018573</td>\n",
              "      <td>0.028543</td>\n",
              "      <td>0.026197</td>\n",
              "      <td>0.019159</td>\n",
              "      <td>NaN</td>\n",
              "      <td>0.0</td>\n",
              "    </tr>\n",
              "    <tr>\n",
              "      <th>5</th>\n",
              "      <td>5</td>\n",
              "      <td>0.024438</td>\n",
              "      <td>0.084066</td>\n",
              "      <td>0.01564</td>\n",
              "      <td>0.017400</td>\n",
              "      <td>0.018573</td>\n",
              "      <td>0.028348</td>\n",
              "      <td>0.026393</td>\n",
              "      <td>0.018573</td>\n",
              "      <td>NaN</td>\n",
              "      <td>0.0</td>\n",
              "    </tr>\n",
              "    <tr>\n",
              "      <th>6</th>\n",
              "      <td>6</td>\n",
              "      <td>0.024438</td>\n",
              "      <td>0.089932</td>\n",
              "      <td>0.01564</td>\n",
              "      <td>0.017400</td>\n",
              "      <td>0.018573</td>\n",
              "      <td>0.028348</td>\n",
              "      <td>0.026002</td>\n",
              "      <td>0.018573</td>\n",
              "      <td>NaN</td>\n",
              "      <td>0.0</td>\n",
              "    </tr>\n",
              "    <tr>\n",
              "      <th>7</th>\n",
              "      <td>7</td>\n",
              "      <td>0.024438</td>\n",
              "      <td>0.102639</td>\n",
              "      <td>0.01564</td>\n",
              "      <td>0.017400</td>\n",
              "      <td>0.018573</td>\n",
              "      <td>0.028348</td>\n",
              "      <td>0.026393</td>\n",
              "      <td>0.019550</td>\n",
              "      <td>NaN</td>\n",
              "      <td>0.0</td>\n",
              "    </tr>\n",
              "    <tr>\n",
              "      <th>8</th>\n",
              "      <td>8</td>\n",
              "      <td>0.024438</td>\n",
              "      <td>0.091691</td>\n",
              "      <td>0.01564</td>\n",
              "      <td>0.017400</td>\n",
              "      <td>0.018573</td>\n",
              "      <td>0.028348</td>\n",
              "      <td>0.026197</td>\n",
              "      <td>0.018964</td>\n",
              "      <td>NaN</td>\n",
              "      <td>0.0</td>\n",
              "    </tr>\n",
              "    <tr>\n",
              "      <th>9</th>\n",
              "      <td>9</td>\n",
              "      <td>0.024438</td>\n",
              "      <td>0.095015</td>\n",
              "      <td>0.01564</td>\n",
              "      <td>0.017595</td>\n",
              "      <td>0.018573</td>\n",
              "      <td>0.028348</td>\n",
              "      <td>0.026393</td>\n",
              "      <td>0.019550</td>\n",
              "      <td>NaN</td>\n",
              "      <td>0.0</td>\n",
              "    </tr>\n",
              "  </tbody>\n",
              "</table>\n",
              "</div>\n",
              "      <button class=\"colab-df-convert\" onclick=\"convertToInteractive('df-892e7ead-95c0-4fc7-b98c-b8b9a52e0bc7')\"\n",
              "              title=\"Convert this dataframe to an interactive table.\"\n",
              "              style=\"display:none;\">\n",
              "        \n",
              "  <svg xmlns=\"http://www.w3.org/2000/svg\" height=\"24px\"viewBox=\"0 0 24 24\"\n",
              "       width=\"24px\">\n",
              "    <path d=\"M0 0h24v24H0V0z\" fill=\"none\"/>\n",
              "    <path d=\"M18.56 5.44l.94 2.06.94-2.06 2.06-.94-2.06-.94-.94-2.06-.94 2.06-2.06.94zm-11 1L8.5 8.5l.94-2.06 2.06-.94-2.06-.94L8.5 2.5l-.94 2.06-2.06.94zm10 10l.94 2.06.94-2.06 2.06-.94-2.06-.94-.94-2.06-.94 2.06-2.06.94z\"/><path d=\"M17.41 7.96l-1.37-1.37c-.4-.4-.92-.59-1.43-.59-.52 0-1.04.2-1.43.59L10.3 9.45l-7.72 7.72c-.78.78-.78 2.05 0 2.83L4 21.41c.39.39.9.59 1.41.59.51 0 1.02-.2 1.41-.59l7.78-7.78 2.81-2.81c.8-.78.8-2.07 0-2.86zM5.41 20L4 18.59l7.72-7.72 1.47 1.35L5.41 20z\"/>\n",
              "  </svg>\n",
              "      </button>\n",
              "      \n",
              "  <style>\n",
              "    .colab-df-container {\n",
              "      display:flex;\n",
              "      flex-wrap:wrap;\n",
              "      gap: 12px;\n",
              "    }\n",
              "\n",
              "    .colab-df-convert {\n",
              "      background-color: #E8F0FE;\n",
              "      border: none;\n",
              "      border-radius: 50%;\n",
              "      cursor: pointer;\n",
              "      display: none;\n",
              "      fill: #1967D2;\n",
              "      height: 32px;\n",
              "      padding: 0 0 0 0;\n",
              "      width: 32px;\n",
              "    }\n",
              "\n",
              "    .colab-df-convert:hover {\n",
              "      background-color: #E2EBFA;\n",
              "      box-shadow: 0px 1px 2px rgba(60, 64, 67, 0.3), 0px 1px 3px 1px rgba(60, 64, 67, 0.15);\n",
              "      fill: #174EA6;\n",
              "    }\n",
              "\n",
              "    [theme=dark] .colab-df-convert {\n",
              "      background-color: #3B4455;\n",
              "      fill: #D2E3FC;\n",
              "    }\n",
              "\n",
              "    [theme=dark] .colab-df-convert:hover {\n",
              "      background-color: #434B5C;\n",
              "      box-shadow: 0px 1px 3px 1px rgba(0, 0, 0, 0.15);\n",
              "      filter: drop-shadow(0px 1px 2px rgba(0, 0, 0, 0.3));\n",
              "      fill: #FFFFFF;\n",
              "    }\n",
              "  </style>\n",
              "\n",
              "      <script>\n",
              "        const buttonEl =\n",
              "          document.querySelector('#df-892e7ead-95c0-4fc7-b98c-b8b9a52e0bc7 button.colab-df-convert');\n",
              "        buttonEl.style.display =\n",
              "          google.colab.kernel.accessAllowed ? 'block' : 'none';\n",
              "\n",
              "        async function convertToInteractive(key) {\n",
              "          const element = document.querySelector('#df-892e7ead-95c0-4fc7-b98c-b8b9a52e0bc7');\n",
              "          const dataTable =\n",
              "            await google.colab.kernel.invokeFunction('convertToInteractive',\n",
              "                                                     [key], {});\n",
              "          if (!dataTable) return;\n",
              "\n",
              "          const docLinkHtml = 'Like what you see? Visit the ' +\n",
              "            '<a target=\"_blank\" href=https://colab.research.google.com/notebooks/data_table.ipynb>data table notebook</a>'\n",
              "            + ' to learn more about interactive tables.';\n",
              "          element.innerHTML = '';\n",
              "          dataTable['output_type'] = 'display_data';\n",
              "          await google.colab.output.renderOutput(dataTable, element);\n",
              "          const docLink = document.createElement('div');\n",
              "          docLink.innerHTML = docLinkHtml;\n",
              "          element.appendChild(docLink);\n",
              "        }\n",
              "      </script>\n",
              "    </div>\n",
              "  </div>\n",
              "  "
            ]
          },
          "metadata": {},
          "execution_count": 141
        }
      ]
    },
    {
      "cell_type": "code",
      "source": [
        "df_feta[:7000].plot(x='Timestamp', y='Raw_value_MQ2')"
      ],
      "metadata": {
        "colab": {
          "base_uri": "https://localhost:8080/",
          "height": 296
        },
        "id": "RpO6jSNzztxF",
        "outputId": "d12f353b-0ef5-4665-e42a-64365b150e21"
      },
      "execution_count": 142,
      "outputs": [
        {
          "output_type": "execute_result",
          "data": {
            "text/plain": [
              "<matplotlib.axes._subplots.AxesSubplot at 0x7f00fced5510>"
            ]
          },
          "metadata": {},
          "execution_count": 142
        },
        {
          "output_type": "display_data",
          "data": {
            "text/plain": [
              "<Figure size 432x288 with 1 Axes>"
            ],
            "image/png": "[encoded data removed]"
          },
          "metadata": {
            "image/png": {
              "width": 394,
              "height": 261
            },
            "needs_background": "light"
          }
        }
      ]
    },
    {
      "cell_type": "code",
      "source": [
        "fields = df_feta[sensor_names_with_day]"
      ],
      "metadata": {
        "id": "w3rVyd422RYV"
      },
      "execution_count": 143,
      "outputs": []
    },
    {
      "cell_type": "code",
      "source": [
        "fields[1438:1450]"
      ],
      "metadata": {
        "colab": {
          "base_uri": "https://localhost:8080/",
          "height": 425
        },
        "id": "6Y8Vf4qK938f",
        "outputId": "b0213952-539a-4a5a-fe09-08e29bf41a3c"
      },
      "execution_count": 144,
      "outputs": [
        {
          "output_type": "execute_result",
          "data": {
            "text/plain": [
              "      Raw_value_MQ2  Raw_value_MQ3  Raw_value_MQ4  Raw_value_MQ135  \\\n",
              "1438       0.026393       0.042033       0.016618         0.017595   \n",
              "1439       0.026393       0.050831       0.016618         0.017595   \n",
              "1440       0.026393       0.043988       0.016618         0.017595   \n",
              "1441       0.026393       0.047898       0.016618         0.017595   \n",
              "1442       0.026393       0.041056       0.016618         0.017595   \n",
              "1443       0.026393       0.044966       0.016618         0.017595   \n",
              "1444       0.026393       0.044575       0.016618         0.017595   \n",
              "1445       0.026393       0.045161       0.016618         0.017595   \n",
              "1446       0.026393       0.044966       0.016618         0.017595   \n",
              "1447       0.026393       0.038123       0.016618         0.017595   \n",
              "1448       0.026393       0.042033       0.016618         0.017595   \n",
              "1449       0.026393       0.044966       0.016618         0.017400   \n",
              "\n",
              "      Raw_value_MQ6  Raw_value_MQ7  Raw_value_MQ8  Raw_value_MQ9  day  \n",
              "1438       0.018573        0.02737       0.026002       0.018573  0.0  \n",
              "1439       0.018573        0.02737       0.026393       0.018573  0.0  \n",
              "1440       0.018573        0.02737       0.026197       0.018573  1.0  \n",
              "1441       0.018573        0.02737       0.026002       0.018573  1.0  \n",
              "1442       0.018573        0.02737       0.026002       0.018573  1.0  \n",
              "1443       0.018573        0.02737       0.026002       0.018573  1.0  \n",
              "1444       0.018573        0.02737       0.026197       0.018573  1.0  \n",
              "1445       0.018573        0.02737       0.026002       0.018573  1.0  \n",
              "1446       0.018573        0.02737       0.026002       0.018573  1.0  \n",
              "1447       0.018573        0.02737       0.026002       0.018573  1.0  \n",
              "1448       0.018573        0.02737       0.026393       0.018573  1.0  \n",
              "1449       0.018573        0.02737       0.025611       0.018573  1.0  "
            ],
            "text/html": [
              "\n",
              "  <div id=\"df-8e5ee21f-574d-4c39-a101-057737cef6cf\">\n",
              "    <div class=\"colab-df-container\">\n",
              "      <div>\n",
              "<style scoped>\n",
              "    .dataframe tbody tr th:only-of-type {\n",
              "        vertical-align: middle;\n",
              "    }\n",
              "\n",
              "    .dataframe tbody tr th {\n",
              "        vertical-align: top;\n",
              "    }\n",
              "\n",
              "    .dataframe thead th {\n",
              "        text-align: right;\n",
              "    }\n",
              "</style>\n",
              "<table border=\"1\" class=\"dataframe\">\n",
              "  <thead>\n",
              "    <tr style=\"text-align: right;\">\n",
              "      <th></th>\n",
              "      <th>Raw_value_MQ2</th>\n",
              "      <th>Raw_value_MQ3</th>\n",
              "      <th>Raw_value_MQ4</th>\n",
              "      <th>Raw_value_MQ135</th>\n",
              "      <th>Raw_value_MQ6</th>\n",
              "      <th>Raw_value_MQ7</th>\n",
              "      <th>Raw_value_MQ8</th>\n",
              "      <th>Raw_value_MQ9</th>\n",
              "      <th>day</th>\n",
              "    </tr>\n",
              "  </thead>\n",
              "  <tbody>\n",
              "    <tr>\n",
              "      <th>1438</th>\n",
              "      <td>0.026393</td>\n",
              "      <td>0.042033</td>\n",
              "      <td>0.016618</td>\n",
              "      <td>0.017595</td>\n",
              "      <td>0.018573</td>\n",
              "      <td>0.02737</td>\n",
              "      <td>0.026002</td>\n",
              "      <td>0.018573</td>\n",
              "      <td>0.0</td>\n",
              "    </tr>\n",
              "    <tr>\n",
              "      <th>1439</th>\n",
              "      <td>0.026393</td>\n",
              "      <td>0.050831</td>\n",
              "      <td>0.016618</td>\n",
              "      <td>0.017595</td>\n",
              "      <td>0.018573</td>\n",
              "      <td>0.02737</td>\n",
              "      <td>0.026393</td>\n",
              "      <td>0.018573</td>\n",
              "      <td>0.0</td>\n",
              "    </tr>\n",
              "    <tr>\n",
              "      <th>1440</th>\n",
              "      <td>0.026393</td>\n",
              "      <td>0.043988</td>\n",
              "      <td>0.016618</td>\n",
              "      <td>0.017595</td>\n",
              "      <td>0.018573</td>\n",
              "      <td>0.02737</td>\n",
              "      <td>0.026197</td>\n",
              "      <td>0.018573</td>\n",
              "      <td>1.0</td>\n",
              "    </tr>\n",
              "    <tr>\n",
              "      <th>1441</th>\n",
              "      <td>0.026393</td>\n",
              "      <td>0.047898</td>\n",
              "      <td>0.016618</td>\n",
              "      <td>0.017595</td>\n",
              "      <td>0.018573</td>\n",
              "      <td>0.02737</td>\n",
              "      <td>0.026002</td>\n",
              "      <td>0.018573</td>\n",
              "      <td>1.0</td>\n",
              "    </tr>\n",
              "    <tr>\n",
              "      <th>1442</th>\n",
              "      <td>0.026393</td>\n",
              "      <td>0.041056</td>\n",
              "      <td>0.016618</td>\n",
              "      <td>0.017595</td>\n",
              "      <td>0.018573</td>\n",
              "      <td>0.02737</td>\n",
              "      <td>0.026002</td>\n",
              "      <td>0.018573</td>\n",
              "      <td>1.0</td>\n",
              "    </tr>\n",
              "    <tr>\n",
              "      <th>1443</th>\n",
              "      <td>0.026393</td>\n",
              "      <td>0.044966</td>\n",
              "      <td>0.016618</td>\n",
              "      <td>0.017595</td>\n",
              "      <td>0.018573</td>\n",
              "      <td>0.02737</td>\n",
              "      <td>0.026002</td>\n",
              "      <td>0.018573</td>\n",
              "      <td>1.0</td>\n",
              "    </tr>\n",
              "    <tr>\n",
              "      <th>1444</th>\n",
              "      <td>0.026393</td>\n",
              "      <td>0.044575</td>\n",
              "      <td>0.016618</td>\n",
              "      <td>0.017595</td>\n",
              "      <td>0.018573</td>\n",
              "      <td>0.02737</td>\n",
              "      <td>0.026197</td>\n",
              "      <td>0.018573</td>\n",
              "      <td>1.0</td>\n",
              "    </tr>\n",
              "    <tr>\n",
              "      <th>1445</th>\n",
              "      <td>0.026393</td>\n",
              "      <td>0.045161</td>\n",
              "      <td>0.016618</td>\n",
              "      <td>0.017595</td>\n",
              "      <td>0.018573</td>\n",
              "      <td>0.02737</td>\n",
              "      <td>0.026002</td>\n",
              "      <td>0.018573</td>\n",
              "      <td>1.0</td>\n",
              "    </tr>\n",
              "    <tr>\n",
              "      <th>1446</th>\n",
              "      <td>0.026393</td>\n",
              "      <td>0.044966</td>\n",
              "      <td>0.016618</td>\n",
              "      <td>0.017595</td>\n",
              "      <td>0.018573</td>\n",
              "      <td>0.02737</td>\n",
              "      <td>0.026002</td>\n",
              "      <td>0.018573</td>\n",
              "      <td>1.0</td>\n",
              "    </tr>\n",
              "    <tr>\n",
              "      <th>1447</th>\n",
              "      <td>0.026393</td>\n",
              "      <td>0.038123</td>\n",
              "      <td>0.016618</td>\n",
              "      <td>0.017595</td>\n",
              "      <td>0.018573</td>\n",
              "      <td>0.02737</td>\n",
              "      <td>0.026002</td>\n",
              "      <td>0.018573</td>\n",
              "      <td>1.0</td>\n",
              "    </tr>\n",
              "    <tr>\n",
              "      <th>1448</th>\n",
              "      <td>0.026393</td>\n",
              "      <td>0.042033</td>\n",
              "      <td>0.016618</td>\n",
              "      <td>0.017595</td>\n",
              "      <td>0.018573</td>\n",
              "      <td>0.02737</td>\n",
              "      <td>0.026393</td>\n",
              "      <td>0.018573</td>\n",
              "      <td>1.0</td>\n",
              "    </tr>\n",
              "    <tr>\n",
              "      <th>1449</th>\n",
              "      <td>0.026393</td>\n",
              "      <td>0.044966</td>\n",
              "      <td>0.016618</td>\n",
              "      <td>0.017400</td>\n",
              "      <td>0.018573</td>\n",
              "      <td>0.02737</td>\n",
              "      <td>0.025611</td>\n",
              "      <td>0.018573</td>\n",
              "      <td>1.0</td>\n",
              "    </tr>\n",
              "  </tbody>\n",
              "</table>\n",
              "</div>\n",
              "      <button class=\"colab-df-convert\" onclick=\"convertToInteractive('df-8e5ee21f-574d-4c39-a101-057737cef6cf')\"\n",
              "              title=\"Convert this dataframe to an interactive table.\"\n",
              "              style=\"display:none;\">\n",
              "        \n",
              "  <svg xmlns=\"http://www.w3.org/2000/svg\" height=\"24px\"viewBox=\"0 0 24 24\"\n",
              "       width=\"24px\">\n",
              "    <path d=\"M0 0h24v24H0V0z\" fill=\"none\"/>\n",
              "    <path d=\"M18.56 5.44l.94 2.06.94-2.06 2.06-.94-2.06-.94-.94-2.06-.94 2.06-2.06.94zm-11 1L8.5 8.5l.94-2.06 2.06-.94-2.06-.94L8.5 2.5l-.94 2.06-2.06.94zm10 10l.94 2.06.94-2.06 2.06-.94-2.06-.94-.94-2.06-.94 2.06-2.06.94z\"/><path d=\"M17.41 7.96l-1.37-1.37c-.4-.4-.92-.59-1.43-.59-.52 0-1.04.2-1.43.59L10.3 9.45l-7.72 7.72c-.78.78-.78 2.05 0 2.83L4 21.41c.39.39.9.59 1.41.59.51 0 1.02-.2 1.41-.59l7.78-7.78 2.81-2.81c.8-.78.8-2.07 0-2.86zM5.41 20L4 18.59l7.72-7.72 1.47 1.35L5.41 20z\"/>\n",
              "  </svg>\n",
              "      </button>\n",
              "      \n",
              "  <style>\n",
              "    .colab-df-container {\n",
              "      display:flex;\n",
              "      flex-wrap:wrap;\n",
              "      gap: 12px;\n",
              "    }\n",
              "\n",
              "    .colab-df-convert {\n",
              "      background-color: #E8F0FE;\n",
              "      border: none;\n",
              "      border-radius: 50%;\n",
              "      cursor: pointer;\n",
              "      display: none;\n",
              "      fill: #1967D2;\n",
              "      height: 32px;\n",
              "      padding: 0 0 0 0;\n",
              "      width: 32px;\n",
              "    }\n",
              "\n",
              "    .colab-df-convert:hover {\n",
              "      background-color: #E2EBFA;\n",
              "      box-shadow: 0px 1px 2px rgba(60, 64, 67, 0.3), 0px 1px 3px 1px rgba(60, 64, 67, 0.15);\n",
              "      fill: #174EA6;\n",
              "    }\n",
              "\n",
              "    [theme=dark] .colab-df-convert {\n",
              "      background-color: #3B4455;\n",
              "      fill: #D2E3FC;\n",
              "    }\n",
              "\n",
              "    [theme=dark] .colab-df-convert:hover {\n",
              "      background-color: #434B5C;\n",
              "      box-shadow: 0px 1px 3px 1px rgba(0, 0, 0, 0.15);\n",
              "      filter: drop-shadow(0px 1px 2px rgba(0, 0, 0, 0.3));\n",
              "      fill: #FFFFFF;\n",
              "    }\n",
              "  </style>\n",
              "\n",
              "      <script>\n",
              "        const buttonEl =\n",
              "          document.querySelector('#df-8e5ee21f-574d-4c39-a101-057737cef6cf button.colab-df-convert');\n",
              "        buttonEl.style.display =\n",
              "          google.colab.kernel.accessAllowed ? 'block' : 'none';\n",
              "\n",
              "        async function convertToInteractive(key) {\n",
              "          const element = document.querySelector('#df-8e5ee21f-574d-4c39-a101-057737cef6cf');\n",
              "          const dataTable =\n",
              "            await google.colab.kernel.invokeFunction('convertToInteractive',\n",
              "                                                     [key], {});\n",
              "          if (!dataTable) return;\n",
              "\n",
              "          const docLinkHtml = 'Like what you see? Visit the ' +\n",
              "            '<a target=\"_blank\" href=https://colab.research.google.com/notebooks/data_table.ipynb>data table notebook</a>'\n",
              "            + ' to learn more about interactive tables.';\n",
              "          element.innerHTML = '';\n",
              "          dataTable['output_type'] = 'display_data';\n",
              "          await google.colab.output.renderOutput(dataTable, element);\n",
              "          const docLink = document.createElement('div');\n",
              "          docLink.innerHTML = docLinkHtml;\n",
              "          element.appendChild(docLink);\n",
              "        }\n",
              "      </script>\n",
              "    </div>\n",
              "  </div>\n",
              "  "
            ]
          },
          "metadata": {},
          "execution_count": 144
        }
      ]
    },
    {
      "cell_type": "markdown",
      "source": [
        "### Splitting the data into training, testing, and validation sets\n",
        "\n",
        "We'll save the data for the first 50 minutes of each day as test set and split the rest as as training and validation sets."
      ],
      "metadata": {
        "id": "oFqYELh_wZrP"
      }
    },
    {
      "cell_type": "code",
      "source": [
        "# Save data for approximately the last 21 days \n",
        "test_data_first_day = fields[0:50]\n",
        "test_data_second_day = fields[1440:1490]\n",
        "test_data_two_days = [test_data_first_day, test_data_second_day]\n",
        "# we DO NOT shuffle the test set\n",
        "test_data = pd.concat(test_data_two_days)\n",
        "\n",
        "\n",
        "# Now remove the test data from the data set (USE VALUES UNTIL 3000 ENTRIES)\n",
        "data_first_day = fields[50:1440]\n",
        "data_second_day = fields[1490:3000]\n",
        "data_two_days = [data_first_day, data_second_day]\n",
        "data_rest = pd.concat(data_two_days)\n",
        "#print(data_rest[:10])\n",
        "# shuffle the dataset before splitting into training and validation\n",
        "data_rest = data_rest.sample(frac=1).reset_index(drop=True)\n",
        "print(data_rest[:10])\n",
        "\n",
        "# Separate the data into features and targets\n",
        "target_field = ['day']\n",
        "data_features, data_targets = data_rest.drop(target_field, axis=1), data_rest[target_field]\n",
        "test_features, test_targets = test_data.drop(target_field, axis=1), test_data[target_field]\n"
      ],
      "metadata": {
        "colab": {
          "base_uri": "https://localhost:8080/"
        },
        "id": "DkPgCSJ0sHWN",
        "outputId": "30c219e5-f2e4-4385-93d1-8e777480d136"
      },
      "execution_count": 201,
      "outputs": [
        {
          "output_type": "stream",
          "name": "stdout",
          "text": [
            "   Raw_value_MQ2  Raw_value_MQ3  Raw_value_MQ4  Raw_value_MQ135  \\\n",
            "0       0.024438       0.076246       0.015640         0.017595   \n",
            "1       0.026197       0.086022       0.016618         0.017595   \n",
            "2       0.026393       0.045943       0.016618         0.017595   \n",
            "3       0.027761       0.034213       0.017204         0.017400   \n",
            "4       0.026393       0.074291       0.016618         0.017595   \n",
            "5       0.027175       0.035973       0.016618         0.017400   \n",
            "6       0.028348       0.032258       0.017595         0.017595   \n",
            "7       0.026393       0.048876       0.016618         0.017595   \n",
            "8       0.028348       0.035191       0.017595         0.017400   \n",
            "9       0.026002       0.094037       0.016618         0.017595   \n",
            "\n",
            "   Raw_value_MQ6  Raw_value_MQ7  Raw_value_MQ8  Raw_value_MQ9  day  \n",
            "0       0.018573       0.028348       0.026393       0.018573  0.0  \n",
            "1       0.018573       0.028348       0.026393       0.018573  0.0  \n",
            "2       0.018573       0.027370       0.026197       0.018573  0.0  \n",
            "3       0.018573       0.026979       0.025415       0.018573  1.0  \n",
            "4       0.018573       0.028348       0.026393       0.018573  0.0  \n",
            "5       0.018573       0.027370       0.026393       0.018573  1.0  \n",
            "6       0.018573       0.026588       0.025415       0.018573  1.0  \n",
            "7       0.018573       0.027370       0.026002       0.018573  0.0  \n",
            "8       0.018573       0.026784       0.025415       0.018573  1.0  \n",
            "9       0.018573       0.028348       0.026393       0.018573  0.0  \n"
          ]
        }
      ]
    },
    {
      "cell_type": "code",
      "source": [
        "# Create test features list.\n",
        "test_features_list=[]\n",
        "\n",
        "for row in test_features.iterrows():\n",
        "    index, data = row\n",
        "    test_features_list.append(data.tolist())\n",
        "\n",
        "# Create test targets list.\n",
        "test_targets_list=[]\n",
        "\n",
        "for row in test_targets.iterrows():\n",
        "    index, data = row\n",
        "    test_targets_list.append(data.tolist())\n",
        "\n",
        "\n",
        "# Create data features list.\n",
        "data_features_list=[]\n",
        "\n",
        "for row in data_features.iterrows():\n",
        "    index, data = row\n",
        "    data_features_list.append(data.tolist())\n",
        "\n",
        "# Create data targets list.\n",
        "data_targets_list=[]\n",
        "\n",
        "for row in data_targets.iterrows():\n",
        "    index, data = row\n",
        "    data_targets_list.append(data.tolist())"
      ],
      "metadata": {
        "id": "j42CvPkxEloc"
      },
      "execution_count": 202,
      "outputs": []
    },
    {
      "cell_type": "code",
      "source": [
        "print(data_features_list[:10])\n",
        "print(data_targets_list[:10])\n",
        "print(len(data_targets_list))"
      ],
      "metadata": {
        "colab": {
          "base_uri": "https://localhost:8080/"
        },
        "id": "xi29igGtQ_Iz",
        "outputId": "1ca161f5-1886-404c-9af3-5f0ddc65e76a"
      },
      "execution_count": 206,
      "outputs": [
        {
          "output_type": "stream",
          "name": "stdout",
          "text": [
            "[[0.024437927663734114, 0.07624633431085044, 0.015640273704789834, 0.017595307917888565, 0.01857282502443793, 0.028347996089931573, 0.026392961876832845, 0.01857282502443793], [0.026197458455522973, 0.08602150537634409, 0.016617790811339198, 0.017595307917888565, 0.01857282502443793, 0.028347996089931573, 0.026392961876832845, 0.01857282502443793], [0.026392961876832845, 0.04594330400782014, 0.016617790811339198, 0.017595307917888565, 0.01857282502443793, 0.02737047898338221, 0.026197458455522973, 0.01857282502443793], [0.027761485826001953, 0.03421309872922776, 0.017204301075268817, 0.01739980449657869, 0.01857282502443793, 0.026979472140762465, 0.02541544477028348, 0.01857282502443793], [0.026392961876832845, 0.07429130009775171, 0.016617790811339198, 0.017595307917888565, 0.01857282502443793, 0.028347996089931573, 0.026392961876832845, 0.01857282502443793], [0.027174975562072337, 0.03597262952101662, 0.016617790811339198, 0.01739980449657869, 0.01857282502443793, 0.02737047898338221, 0.026392961876832845, 0.01857282502443793], [0.028347996089931573, 0.03225806451612903, 0.017595307917888565, 0.017595307917888565, 0.01857282502443793, 0.026588465298142717, 0.02541544477028348, 0.01857282502443793], [0.026392961876832845, 0.04887585532746823, 0.016617790811339198, 0.017595307917888565, 0.01857282502443793, 0.02737047898338221, 0.0260019550342131, 0.01857282502443793], [0.028347996089931573, 0.03519061583577713, 0.017595307917888565, 0.01739980449657869, 0.01857282502443793, 0.02678396871945259, 0.02541544477028348, 0.01857282502443793], [0.0260019550342131, 0.09403714565004888, 0.016617790811339198, 0.017595307917888565, 0.01857282502443793, 0.028347996089931573, 0.026392961876832845, 0.01857282502443793]]\n",
            "[[0.0], [0.0], [0.0], [1.0], [0.0], [1.0], [1.0], [0.0], [1.0], [0.0]]\n",
            "2900\n"
          ]
        }
      ]
    },
    {
      "cell_type": "code",
      "source": [
        "# Split into training and validation data\n",
        "# Hold out the last 60 days or so of the remaining data as a validation set\n",
        "train_features, train_targets = np.array(data_features_list[:2400]), np.array(data_targets_list[:2400])\n",
        "val_features, val_targets = np.array(data_features_list[2400:]), np.array(data_targets_list[2400:])"
      ],
      "metadata": {
        "id": "P0bVagWxYEe8"
      },
      "execution_count": 207,
      "outputs": []
    },
    {
      "cell_type": "code",
      "source": [
        "print(len(train_features))\n",
        "print(len(train_targets))\n",
        "\n",
        "\n",
        "print(len(val_features))\n",
        "print(len(val_targets))"
      ],
      "metadata": {
        "colab": {
          "base_uri": "https://localhost:8080/"
        },
        "id": "YlaNt76eYEhz",
        "outputId": "f40ce26b-f9ef-4a98-e4ff-ba3e6b8ed3f8"
      },
      "execution_count": 208,
      "outputs": [
        {
          "output_type": "stream",
          "name": "stdout",
          "text": [
            "2400\n",
            "2400\n",
            "500\n",
            "500\n"
          ]
        }
      ]
    },
    {
      "cell_type": "markdown",
      "source": [
        "##Build a Keras model to train the dataset."
      ],
      "metadata": {
        "id": "5tFi6gswZXIM"
      }
    },
    {
      "cell_type": "code",
      "source": [
        "from keras import Sequential\n",
        "from keras.layers import Dense, Dropout, GlobalAveragePooling2D\n",
        "\n",
        "model=Sequential()\n",
        "model.add(Dense(256, input_dim=8,activation='relu'))\n",
        "model.add(Dropout(0.1))\n",
        "model.add(Dense(128, activation='relu'))\n",
        "model.add(Dropout(0.1))\n",
        "model.add(Dense(64, activation='relu'))\n",
        "model.add(Dropout(0.1))\n",
        "model.add(Dense(2))\n",
        "\n",
        "print(model.summary())"
      ],
      "metadata": {
        "colab": {
          "base_uri": "https://localhost:8080/"
        },
        "id": "PWlHyFQiYEkg",
        "outputId": "b471af0a-47d3-4009-c883-c62e21885afe"
      },
      "execution_count": 218,
      "outputs": [
        {
          "output_type": "stream",
          "name": "stdout",
          "text": [
            "Model: \"sequential_2\"\n",
            "_________________________________________________________________\n",
            " Layer (type)                Output Shape              Param #   \n",
            "=================================================================\n",
            " dense_8 (Dense)             (None, 256)               2304      \n",
            "                                                                 \n",
            " dropout_6 (Dropout)         (None, 256)               0         \n",
            "                                                                 \n",
            " dense_9 (Dense)             (None, 128)               32896     \n",
            "                                                                 \n",
            " dropout_7 (Dropout)         (None, 128)               0         \n",
            "                                                                 \n",
            " dense_10 (Dense)            (None, 64)                8256      \n",
            "                                                                 \n",
            " dropout_8 (Dropout)         (None, 64)                0         \n",
            "                                                                 \n",
            " dense_11 (Dense)            (None, 2)                 130       \n",
            "                                                                 \n",
            "=================================================================\n",
            "Total params: 43,586\n",
            "Trainable params: 43,586\n",
            "Non-trainable params: 0\n",
            "_________________________________________________________________\n",
            "None\n"
          ]
        }
      ]
    },
    {
      "cell_type": "code",
      "source": [
        "from tensorflow.keras.optimizers import Adam\n",
        "\n",
        "\n",
        "adam = Adam(learning_rate=0.000001)\n",
        "# https://keras.io/api/losses/probabilistic_losses/#categorical_crossentropy-function\n",
        "model.compile(loss='sparse_categorical_crossentropy', \n",
        "             optimizer=adam, \n",
        "             metrics=['accuracy'])"
      ],
      "metadata": {
        "id": "B4x9GyApaAaq"
      },
      "execution_count": 219,
      "outputs": []
    },
    {
      "cell_type": "code",
      "source": [
        "from keras.callbacks import ModelCheckpoint  \n",
        "\n",
        "batch_size = 50\n",
        "num_epochs = 500\n",
        "\n",
        "checkpoint = ModelCheckpoint(filepath='food_quality.weights.best.hdf5', verbose=1, \n",
        "                               save_best_only=True)\n",
        "\n",
        "callbacks_list = [checkpoint]\n",
        "\n",
        "history = model.fit(train_features, train_targets, validation_data=(val_features, val_targets), batch_size=batch_size, epochs=num_epochs, callbacks=callbacks_list)"
      ],
      "metadata": {
        "id": "cumJ4mSLQygq"
      },
      "execution_count": null,
      "outputs": []
    },
    {
      "cell_type": "code",
      "source": [
        "#Get history\n",
        "history_dict = history.history\n",
        "history_dict.keys()\n",
        "\n",
        "#dict_keys(['loss', 'acc', 'val_loss', 'val_acc'])\n",
        "import matplotlib.pyplot as plt\n",
        "\n",
        "acc = history_dict['accuracy']\n",
        "val_acc = history_dict['val_accuracy']\n",
        "loss = history_dict['loss']\n",
        "val_loss = history_dict['val_loss']\n",
        "\n",
        "epochs = range(1, len(acc) + 1)\n",
        "\n",
        "# \"bo\" is for \"blue dot\"\n",
        "plt.plot(epochs, loss, 'bo', label='Training loss')\n",
        "# b is for \"solid blue line\"\n",
        "plt.plot(epochs, val_loss, 'b', label='Validation loss')\n",
        "plt.title('Training and validation loss')\n",
        "plt.xlabel('Epochs')\n",
        "plt.ylabel('Loss')\n",
        "plt.legend()\n",
        "\n",
        "plt.show()"
      ],
      "metadata": {
        "colab": {
          "base_uri": "https://localhost:8080/",
          "height": 294
        },
        "id": "_kPD36K5KE-6",
        "outputId": "6d4d598d-57b5-4722-8a85-2e40acf79f4c"
      },
      "execution_count": 224,
      "outputs": [
        {
          "output_type": "display_data",
          "data": {
            "text/plain": [
              "<Figure size 432x288 with 1 Axes>"
            ],
            "image/png": "[encoded data removed]"
          },
          "metadata": {
            "image/png": {
              "width": 385,
              "height": 277
            },
            "needs_background": "light"
          }
        }
      ]
    },
    {
      "cell_type": "code",
      "source": [
        "#Evaluate model with the test set\n",
        "test_features, test_targets = np.array(test_features_list), np.array(test_targets_list)\n",
        "print(len(test_features))\n",
        "scores = model.evaluate(test_features, test_targets, verbose=1)\n",
        "print('Test accuracy:', scores[1])"
      ],
      "metadata": {
        "colab": {
          "base_uri": "https://localhost:8080/"
        },
        "id": "JnLKp5E2dTKO",
        "outputId": "d00068aa-3a25-4773-8f2b-c4c8e03e9d44"
      },
      "execution_count": 230,
      "outputs": [
        {
          "output_type": "stream",
          "name": "stdout",
          "text": [
            "100\n",
            "4/4 [==============================] - 0s 3ms/step - loss: 0.2294 - accuracy: 0.9900\n",
            "Test accuracy: 0.9900000095367432\n"
          ]
        }
      ]
    },
    {
      "cell_type": "code",
      "source": [
        "#Evaluate model with the test set\n",
        "test_features, test_targets = np.array(test_features_list[99]), np.array(test_targets_list[99])\n",
        "test_features = np.expand_dims(test_features, axis=0)\n",
        "print(test_targets_list[99])\n",
        "scores = model.predict(test_features, int(test_targets), verbose=1)\n",
        "print(scores)"
      ],
      "metadata": {
        "id": "XB8TfB9nePTz"
      },
      "execution_count": null,
      "outputs": []
    },
    {
      "cell_type": "code",
      "source": [
        ""
      ],
      "metadata": {
        "id": "acWNz4Bm2FcF"
      },
      "execution_count": null,
      "outputs": []
    }
  ]
}